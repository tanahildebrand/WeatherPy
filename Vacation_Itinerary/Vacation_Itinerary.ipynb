{
 "cells": [
  {
   "cell_type": "markdown",
   "metadata": {},
   "source": [
    "# Deliverable 3. Create a Travel Itinerary Map\n",
    "\n",
    "----\n",
    "\n",
    "1. Create a folder called `Vacation_Itinerary` to store all the files for this deliverable.\n",
    "\n",
    "2. Download the `Vacation_Itinerary_starter_code.ipynb` file into your `Vacation_Itinerary` folder and rename it `Vacation_Itinerary.ipynb`.\n",
    "\n",
    "3. Make sure the initial dependencies and the Geoapify API key are imported.\n",
    "\n",
    "4. From your `Vacation_Search` folder from Deliverable 2, import the `WeatherPy_vacation.csv` file as a DataFrame named `vacation_df`.\n",
    "\n",
    "5. Use GeoViews to create a map that shows all the cities in the `vacation_df` DataFrame. Configure the map as follows:\n",
    "\n",
    "    * The point's size should be the maximum temperature for the city\n",
    "\n",
    "    * The point's color should be the city's name\n",
    "\n",
    "    * Use the `hover_cols` parameter to the the \"Hotel Name\", \"Country\", and \"Current Description\" columns to each point as additional information.\n",
    "\n",
    "6. From the map, *choose four cities* that a customer might want to visit. They should be close together and in the same country. Use the `loc` method to create separate DataFrames for each city on the travel route.\n",
    "\n",
    "    > **Hint:** You will start and end the route in the same city, so the `vacation_start` and `vacation_end` DataFrames will be in the same city.\n",
    "\n",
    "7. Use the Pandas `concat` function to merge the DataFrame from each city in the itinerary to create a new DataFrame named `itinerary_df` to store the itinerary details.\n",
    "\n",
    "8. Use the Pandas `copy` function to create a new DataFrame named `waypoints_df` to store the longitude and latitude for each city in `itinerary_df`.\n",
    "\n",
    "    > **Hint:** You'll use this DataFrame to create a map using GeoViews, so recall that the first column should be the longitude, and the second the latitude.\n",
    "\n",
    "9. Use GeoViews to create a map that shows the four cities in the itinerary.\n",
    "\n",
    "10. Next, you'll use the Geoapify Routing API to find a route between the cities in the itinerary. Review the code that sets the initial parameters and fetches the coordinates from each city to define the `waypoints` parameter by using a `for` loop.\n",
    "\n",
    "    > **Hint:** You can note that the `mode` parameter is set to `drive`, you can play around with other modes as it's shown in [the \"Travel modes\" table](https://apidocs.geoapify.com/docs/routing/#api) in the Geoapify Routing API documentation.\n",
    "\n",
    "11. Use the Geoapify Routing API to retrieve the route's directions for your itinerary.\n",
    "\n",
    "12. From the JSON response, store the route's legs coordinates in a variable called `legs`.\n",
    "\n",
    "13. Loop through the route legs coordinates to fetch the latitude and longitude for each step. Store the latitude and longitude values into two Python lists named `longitude` and `latitude`.\n",
    "\n",
    "14. Use the `longitude` and `latitude` Python lists to create a new DataFrame named `route_df`.\n",
    "\n",
    "15. Use the GeoViews `Path` function to configure a line plot by using `route_df`. Set a custom color and width for the line that may contrast with the map.\n",
    "\n",
    "16. Use the asterisk operator to display a composed plot that shows the itinerary's route over the map containing the cities. \n",
    "\n",
    "17. Save your map to the `Vacation_Itinerary` folder as `WeatherPy_travel_map.png`.\n",
    "\n",
    "---"
   ]
  },
  {
   "cell_type": "markdown",
   "metadata": {},
   "source": [
    "## Make sure the initial dependencies and the Geoapify API key are imported"
   ]
  },
  {
   "cell_type": "code",
   "execution_count": 7,
   "metadata": {},
   "outputs": [],
   "source": [
    "# Dependencies and Setup\n",
    "import geoviews as gv\n",
    "import hvplot.pandas\n",
    "import pandas as pd\n",
    "import requests\n",
    "\n",
    "# Turn off warning messages\n",
    "import warnings\n",
    "warnings.filterwarnings(\"ignore\")\n",
    "\n",
    "# Import API key\n",
    "from config import geoapify_key"
   ]
  },
  {
   "cell_type": "markdown",
   "metadata": {},
   "source": [
    "## From your `Vacation_Search` folder from Deliverable 2, import the `WeatherPy_vacation.csv` file as a DataFrame named `vacation_df`"
   ]
  },
  {
   "cell_type": "code",
   "execution_count": 8,
   "metadata": {},
   "outputs": [
    {
     "data": {
      "text/html": [
       "<div>\n",
       "<style scoped>\n",
       "    .dataframe tbody tr th:only-of-type {\n",
       "        vertical-align: middle;\n",
       "    }\n",
       "\n",
       "    .dataframe tbody tr th {\n",
       "        vertical-align: top;\n",
       "    }\n",
       "\n",
       "    .dataframe thead th {\n",
       "        text-align: right;\n",
       "    }\n",
       "</style>\n",
       "<table border=\"1\" class=\"dataframe\">\n",
       "  <thead>\n",
       "    <tr style=\"text-align: right;\">\n",
       "      <th></th>\n",
       "      <th>City_ID</th>\n",
       "      <th>City</th>\n",
       "      <th>Country</th>\n",
       "      <th>Max Temp</th>\n",
       "      <th>City Weather Description</th>\n",
       "      <th>Lat</th>\n",
       "      <th>Lng</th>\n",
       "      <th>Hotel Name</th>\n",
       "    </tr>\n",
       "  </thead>\n",
       "  <tbody>\n",
       "    <tr>\n",
       "      <th>0</th>\n",
       "      <td>0</td>\n",
       "      <td>Hilo</td>\n",
       "      <td>US</td>\n",
       "      <td>83.28</td>\n",
       "      <td>few clouds</td>\n",
       "      <td>19.7297</td>\n",
       "      <td>-155.0900</td>\n",
       "      <td>Dolphin Bay Hotel</td>\n",
       "    </tr>\n",
       "    <tr>\n",
       "      <th>1</th>\n",
       "      <td>1</td>\n",
       "      <td>Mahebourg</td>\n",
       "      <td>MU</td>\n",
       "      <td>76.24</td>\n",
       "      <td>scattered clouds</td>\n",
       "      <td>-20.4081</td>\n",
       "      <td>57.7000</td>\n",
       "      <td>Grand Bel Air</td>\n",
       "    </tr>\n",
       "    <tr>\n",
       "      <th>2</th>\n",
       "      <td>4</td>\n",
       "      <td>Kapaa</td>\n",
       "      <td>US</td>\n",
       "      <td>80.92</td>\n",
       "      <td>clear sky</td>\n",
       "      <td>22.0752</td>\n",
       "      <td>-159.3190</td>\n",
       "      <td>Pono Kai Resort</td>\n",
       "    </tr>\n",
       "    <tr>\n",
       "      <th>3</th>\n",
       "      <td>9</td>\n",
       "      <td>Ambanja</td>\n",
       "      <td>MG</td>\n",
       "      <td>73.81</td>\n",
       "      <td>moderate rain</td>\n",
       "      <td>-13.6833</td>\n",
       "      <td>48.4500</td>\n",
       "      <td>Hôtel Salama Rose</td>\n",
       "    </tr>\n",
       "    <tr>\n",
       "      <th>4</th>\n",
       "      <td>12</td>\n",
       "      <td>Sao Filipe</td>\n",
       "      <td>CV</td>\n",
       "      <td>76.23</td>\n",
       "      <td>broken clouds</td>\n",
       "      <td>14.8961</td>\n",
       "      <td>-24.4956</td>\n",
       "      <td>Bela Vista</td>\n",
       "    </tr>\n",
       "  </tbody>\n",
       "</table>\n",
       "</div>"
      ],
      "text/plain": [
       "   City_ID        City Country  Max Temp City Weather Description      Lat  \\\n",
       "0        0        Hilo      US     83.28               few clouds  19.7297   \n",
       "1        1   Mahebourg      MU     76.24         scattered clouds -20.4081   \n",
       "2        4       Kapaa      US     80.92                clear sky  22.0752   \n",
       "3        9     Ambanja      MG     73.81            moderate rain -13.6833   \n",
       "4       12  Sao Filipe      CV     76.23            broken clouds  14.8961   \n",
       "\n",
       "        Lng         Hotel Name  \n",
       "0 -155.0900  Dolphin Bay Hotel  \n",
       "1   57.7000      Grand Bel Air  \n",
       "2 -159.3190    Pono Kai Resort  \n",
       "3   48.4500  Hôtel Salama Rose  \n",
       "4  -24.4956         Bela Vista  "
      ]
     },
     "execution_count": 8,
     "metadata": {},
     "output_type": "execute_result"
    }
   ],
   "source": [
    "# Read the WeatherPy_vacation.csv into a DataFrame\n",
    "data_to_load = \"../Vacation_Search/WeatherPy_vacation.csv\"\n",
    "vacation_df = pd.read_csv(data_to_load)\n",
    "\n",
    "# Display sample data\n",
    "vacation_df.head()"
   ]
  },
  {
   "cell_type": "markdown",
   "metadata": {},
   "source": [
    "## Use GeoViews to create a map that shows all the cities in the `vacation_df` DataFrame. Configure the map as follows:\n",
    "\n",
    "* The point's size should be the maximum temperature for the city\n",
    "\n",
    "* The point's color should be the city's name\n",
    "\n",
    "* Use the `hover_cols` parameter to the the \"Hotel Name\", \"Country\", and \"Current Description\" columns to each point as additional information."
   ]
  },
  {
   "cell_type": "code",
   "execution_count": 9,
   "metadata": {},
   "outputs": [
    {
     "data": {},
     "metadata": {},
     "output_type": "display_data"
    },
    {
     "data": {
      "application/vnd.holoviews_exec.v0+json": "",
      "text/html": [
       "<div id='1139'>\n",
       "  <div class=\"bk-root\" id=\"6e19fb85-284c-4b23-900a-a8d42a976970\" data-root-id=\"1139\"></div>\n",
       "</div>\n",
       "<script type=\"application/javascript\">(function(root) {\n",
       "  function embed_document(root) {\n",
       "    var docs_json = {\"862bbfe1-3945-47e6-9af9-197eaa9e1337\":{\"defs\":[{\"extends\":null,\"module\":null,\"name\":\"ReactiveHTML1\",\"overrides\":[],\"properties\":[]},{\"extends\":null,\"module\":null,\"name\":\"FlexBox1\",\"overrides\":[],\"properties\":[{\"default\":\"flex-start\",\"kind\":null,\"name\":\"align_content\"},{\"default\":\"flex-start\",\"kind\":null,\"name\":\"align_items\"},{\"default\":\"row\",\"kind\":null,\"name\":\"flex_direction\"},{\"default\":\"wrap\",\"kind\":null,\"name\":\"flex_wrap\"},{\"default\":\"flex-start\",\"kind\":null,\"name\":\"justify_content\"}]},{\"extends\":null,\"module\":null,\"name\":\"GridStack1\",\"overrides\":[],\"properties\":[{\"default\":\"warn\",\"kind\":null,\"name\":\"mode\"},{\"default\":null,\"kind\":null,\"name\":\"ncols\"},{\"default\":null,\"kind\":null,\"name\":\"nrows\"},{\"default\":true,\"kind\":null,\"name\":\"allow_resize\"},{\"default\":true,\"kind\":null,\"name\":\"allow_drag\"},{\"default\":[],\"kind\":null,\"name\":\"state\"}]},{\"extends\":null,\"module\":null,\"name\":\"click1\",\"overrides\":[],\"properties\":[{\"default\":\"\",\"kind\":null,\"name\":\"terminal_output\"},{\"default\":\"\",\"kind\":null,\"name\":\"debug_name\"},{\"default\":0,\"kind\":null,\"name\":\"clears\"}]},{\"extends\":null,\"module\":null,\"name\":\"NotificationAreaBase1\",\"overrides\":[],\"properties\":[{\"default\":\"bottom-right\",\"kind\":null,\"name\":\"position\"},{\"default\":0,\"kind\":null,\"name\":\"_clear\"}]},{\"extends\":null,\"module\":null,\"name\":\"NotificationArea1\",\"overrides\":[],\"properties\":[{\"default\":[],\"kind\":null,\"name\":\"notifications\"},{\"default\":\"bottom-right\",\"kind\":null,\"name\":\"position\"},{\"default\":0,\"kind\":null,\"name\":\"_clear\"},{\"default\":[{\"background\":\"#ffc107\",\"icon\":{\"className\":\"fas fa-exclamation-triangle\",\"color\":\"white\",\"tagName\":\"i\"},\"type\":\"warning\"},{\"background\":\"#007bff\",\"icon\":{\"className\":\"fas fa-info-circle\",\"color\":\"white\",\"tagName\":\"i\"},\"type\":\"info\"}],\"kind\":null,\"name\":\"types\"}]},{\"extends\":null,\"module\":null,\"name\":\"Notification\",\"overrides\":[],\"properties\":[{\"default\":null,\"kind\":null,\"name\":\"background\"},{\"default\":3000,\"kind\":null,\"name\":\"duration\"},{\"default\":null,\"kind\":null,\"name\":\"icon\"},{\"default\":\"\",\"kind\":null,\"name\":\"message\"},{\"default\":null,\"kind\":null,\"name\":\"notification_type\"},{\"default\":false,\"kind\":null,\"name\":\"_destroyed\"}]},{\"extends\":null,\"module\":null,\"name\":\"TemplateActions1\",\"overrides\":[],\"properties\":[{\"default\":0,\"kind\":null,\"name\":\"open_modal\"},{\"default\":0,\"kind\":null,\"name\":\"close_modal\"}]},{\"extends\":null,\"module\":null,\"name\":\"MaterialTemplateActions1\",\"overrides\":[],\"properties\":[{\"default\":0,\"kind\":null,\"name\":\"open_modal\"},{\"default\":0,\"kind\":null,\"name\":\"close_modal\"}]}],\"roots\":{\"references\":[{\"attributes\":{\"below\":[{\"id\":\"1161\"}],\"center\":[{\"id\":\"1164\"},{\"id\":\"1168\"}],\"frame_height\":500,\"frame_width\":700,\"height\":null,\"left\":[{\"id\":\"1165\"}],\"margin\":[5,5,5,5],\"match_aspect\":true,\"min_border_bottom\":10,\"min_border_left\":10,\"min_border_right\":10,\"min_border_top\":10,\"renderers\":[{\"id\":\"1213\"},{\"id\":\"1224\"}],\"right\":[{\"id\":\"1232\"}],\"sizing_mode\":\"fixed\",\"title\":{\"id\":\"1153\"},\"toolbar\":{\"id\":\"1175\"},\"width\":null,\"x_range\":{\"id\":\"1145\"},\"x_scale\":{\"id\":\"1157\"},\"y_range\":{\"id\":\"1146\"},\"y_scale\":{\"id\":\"1159\"}},\"id\":\"1152\",\"subtype\":\"Figure\",\"type\":\"Plot\"},{\"attributes\":{},\"id\":\"1170\",\"type\":\"PanTool\"},{\"attributes\":{},\"id\":\"1173\",\"type\":\"ResetTool\"},{\"attributes\":{\"zoom_on_axis\":false},\"id\":\"1171\",\"type\":\"WheelZoomTool\"},{\"attributes\":{\"margin\":[5,5,5,5],\"name\":\"HSpacer01715\",\"sizing_mode\":\"stretch_width\"},\"id\":\"1242\",\"type\":\"Spacer\"},{\"attributes\":{\"end\":21581672.55640977,\"min_interval\":5,\"reset_end\":21581672.55640977,\"reset_start\":-22242164.49113349,\"start\":-22242164.49113349,\"tags\":[[[\"Lng\",\"Lng\",null]]]},\"id\":\"1145\",\"type\":\"Range1d\"},{\"attributes\":{\"dimension\":\"lon\"},\"id\":\"1184\",\"type\":\"MercatorTicker\"},{\"attributes\":{\"margin\":[5,5,5,5],\"name\":\"HSpacer01714\",\"sizing_mode\":\"stretch_width\"},\"id\":\"1140\",\"type\":\"Spacer\"},{\"attributes\":{\"match_aspect\":true,\"overlay\":{\"id\":\"1174\"}},\"id\":\"1172\",\"type\":\"BoxZoomTool\"},{\"attributes\":{\"coordinates\":null,\"group\":null,\"level\":\"glyph\",\"tile_source\":{\"id\":\"1210\"}},\"id\":\"1213\",\"type\":\"TileRenderer\"},{\"attributes\":{},\"id\":\"1190\",\"type\":\"AllLabels\"},{\"attributes\":{},\"id\":\"1217\",\"type\":\"Selection\"},{\"attributes\":{\"attribution\":\"&copy; <a href=\\\"https://www.openstreetmap.org/copyright\\\">OpenStreetMap</a> contributors\",\"url\":\"https://c.tile.openstreetmap.org/{Z}/{X}/{Y}.png\"},\"id\":\"1210\",\"type\":\"WMTSTileSource\"},{\"attributes\":{\"label\":{\"field\":\"color\"},\"renderers\":[{\"id\":\"1224\"}]},\"id\":\"1233\",\"type\":\"LegendItem\"},{\"attributes\":{\"coordinates\":null,\"group\":null,\"text_color\":\"black\",\"text_font_size\":\"12pt\"},\"id\":\"1153\",\"type\":\"Title\"},{\"attributes\":{\"tools\":[{\"id\":\"1149\"},{\"id\":\"1169\"},{\"id\":\"1170\"},{\"id\":\"1171\"},{\"id\":\"1172\"},{\"id\":\"1173\"}]},\"id\":\"1175\",\"type\":\"Toolbar\"},{\"attributes\":{\"dimension\":\"lon\"},\"id\":\"1185\",\"type\":\"MercatorTickFormatter\"},{\"attributes\":{\"factors\":[\"Hilo\",\"Mahebourg\",\"Kapaa\",\"Ambanja\",\"Sao Filipe\",\"Shush\",\"Mahibadhoo\",\"Hithadhoo\",\"Rikitea\",\"Padang\",\"Puerto Ayora\",\"Georgetown\",\"Vila Velha\",\"Morondava\",\"Atuona\",\"Sao Joao Da Barra\",\"Lethem\",\"Itarema\",\"Avarua\",\"Souillac\",\"Yaounde\",\"Caravelas\",\"Sabang\",\"Cabo San Lucas\",\"Vaini\",\"Saint-Philippe\",\"Kourou\",\"Birnin Kebbi\",\"Galle\",\"Chuy\",\"Barreirinhas\",\"Sinnamary\",\"Mitsamiouli\",\"Tahoua\",\"Sao Jose Da Coroa Grande\",\"Sechura\",\"Manakara\",\"Borazjan\",\"Cidreira\",\"Amuntai\",\"Luanda\",\"Diego De Almagro\",\"Makanya\",\"Mazatlan\",\"Aswan\",\"Huarmey\",\"Bosaso\",\"Faanui\",\"Koumac\",\"Santa Rosa\",\"Maceio\",\"Wahiawa\",\"Grand Gaube\",\"Martapura\",\"Miri\",\"Montepuez\",\"Caetite\",\"San Nicolas\",\"Bodden Town\",\"Bitung\",\"Ambon\",\"Meulaboh\",\"Salalah\",\"Saint-Pierre\",\"Cockburn Town\",\"Wichian Buri\",\"The Valley\",\"Karratha\",\"Lahaina\",\"Bowen\",\"Sawakin\",\"Sur\",\"Vao\",\"Bengkulu\",\"Mareeba\",\"Pekan\",\"Maragogi\",\"Bandar-E Lengeh\",\"Ternate\",\"Moron\",\"Kloulklubed\",\"Porto Nacional\",\"Sao Gabriel Da Cachoeira\",\"Kathu\",\"Eyl\",\"Abu Dhabi\",\"Tomatlan\",\"Tual\",\"Kampot\",\"Palembang\",\"Isangel\",\"Ca Mau\",\"Paka\",\"Mana\",\"Namibe\",\"Manokwari\",\"Conakry\",\"Quatre Cocos\",\"Hualmay\",\"Salinopolis\",\"Kavieng\",\"Sambava\",\"Puerto Baquerizo Moreno\",\"El Torno\",\"Takoradi\",\"Pombas\",\"Domoni\",\"Neiafu\",\"Callaway\",\"Makakilo City\",\"Bathsheba\",\"Hambantota\",\"Rocha\",\"Tabuk\",\"Praia\",\"Abeche\",\"Jacareacanga\",\"Omboue\",\"Maumere\",\"Lorengau\",\"Santa Maria Da Vitoria\",\"Kununurra\",\"Port Blair\",\"Bako\",\"Daru\",\"Antalaha\",\"Kahului\",\"San Carlos Del Zulia\",\"Biltine\",\"Atar\",\"Mayumba\",\"Bull Savanna\",\"Iquique\",\"Mindelo\",\"Banda Aceh\",\"Bubaque\",\"Atambua\",\"Acapulco\",\"Kendari\",\"Manado\",\"Cabinda\",\"Dawei\",\"Sirajganj\",\"Langsa\",\"Melo\",\"Trincomalee\",\"Port Hedland\",\"Kalmunai\",\"Lhokseumawe\",\"Bontang\",\"Namatanai\",\"Lazaro Cardenas\",\"Puerto Leguizamo\",\"Bac Lieu\",\"Beira\",\"Celestun\",\"Imbituba\",\"Tabou\",\"San Andres\",\"Angoche\",\"Paraiso\",\"Akyab\",\"Kimbe\",\"Boa Vista\",\"Buraydah\",\"Anloga\"],\"palette\":[\"#1f77b3\",\"#ff7e0e\",\"#2ba02b\",\"#d62628\",\"#9367bc\",\"#8c564b\",\"#e277c1\",\"#7e7e7e\",\"#bcbc21\",\"#16bdcf\",\"#3a0182\",\"#004201\",\"#0fffa8\",\"#5d003f\",\"#bcbcff\",\"#d8afa1\",\"#b80080\",\"#004d52\",\"#6b6400\",\"#7c0100\",\"#6026ff\",\"#ffff9a\",\"#564964\",\"#8cb893\",\"#93fbff\",\"#018267\",\"#90ff00\",\"#8200a0\",\"#ac8944\",\"#5b3400\",\"#ffbff2\",\"#ff6e75\",\"#798cff\",\"#dd00ff\",\"#505646\",\"#004489\",\"#ffbf60\",\"#ff018c\",\"#bdc8cf\",\"#af97b5\",\"#b65600\",\"#017000\",\"#cd87ff\",\"#1cd646\",\"#bfebc3\",\"#7997b5\",\"#a56089\",\"#6e8956\",\"#bc7c75\",\"#8a2844\",\"#00acff\",\"#8ed4ff\",\"#4b6d77\",\"#00d4b1\",\"#9300f2\",\"#8a9500\",\"#5d5b9e\",\"#fddfba\",\"#00939e\",\"#ffdb00\",\"#00aa79\",\"#520067\",\"#000091\",\"#0a5d3d\",\"#a5e275\",\"#623b41\",\"#c6c689\",\"#ff9eb5\",\"#cd4f6b\",\"#ff07d6\",\"#8a3a05\",\"#7e3d70\",\"#ff4901\",\"#602ba5\",\"#1c00ff\",\"#e6dfff\",\"#aa3baf\",\"#d89c00\",\"#a3a39e\",\"#3f69ff\",\"#46490c\",\"#7b6985\",\"#6b978c\",\"#ff9a75\",\"#835bff\",\"#7c6b46\",\"#80b654\",\"#bc0049\",\"#fd93ff\",\"#5d0018\",\"#89d1d1\",\"#9c8cd3\",\"#da6d42\",\"#8a5700\",\"#3b5069\",\"#4b6b3b\",\"#edcfd8\",\"#cfedff\",\"#aa1500\",\"#dfff4f\",\"#ff2a56\",\"#d1499e\",\"#707cb8\",\"#598000\",\"#00e4fd\",\"#774b95\",\"#67d48c\",\"#3d3a72\",\"#ac413f\",\"#d6a166\",\"#c169cd\",\"#69595d\",\"#87aced\",\"#a0a569\",\"#d1aae6\",\"#870062\",\"#00fddb\",\"#672818\",\"#b342ff\",\"#0e59c4\",\"#168742\",\"#90d300\",\"#cd7900\",\"#f959ff\",\"#5b7466\",\"#8eaeb3\",\"#9c7c8c\",\"#4600c6\",\"#6b4d2d\",\"#a56d46\",\"#9e8972\",\"#a8afca\",\"#cd8ca7\",\"#00fd64\",\"#917900\",\"#ff62a1\",\"#f4ffd8\",\"#018cf0\",\"#13aca0\",\"#5b2d59\",\"#89859e\",\"#cfccba\",\"#d4afc4\",\"#dbdd6d\",\"#cffff4\",\"#006485\",\"#006962\",\"#a84167\",\"#2d97c4\",\"#a874ff\",\"#26ba5d\",\"#57b600\",\"#caffa7\",\"#a379aa\",\"#ffbc93\",\"#89e2c1\",\"#0fc8ff\",\"#d400c4\",\"#626d89\",\"#69858e\",\"#4b4d52\",\"#aa6067\",\"#79b5d4\",\"#2b5916\",\"#9a0024\",\"#bdd1f2\"]},\"id\":\"1215\",\"type\":\"CategoricalColorMapper\"},{\"attributes\":{\"children\":[{\"id\":\"1140\"},{\"id\":\"1152\"},{\"id\":\"1242\"}],\"margin\":[0,0,0,0],\"name\":\"Row01710\",\"tags\":[\"embedded\"]},\"id\":\"1139\",\"type\":\"Row\"},{\"attributes\":{},\"id\":\"1229\",\"type\":\"UnionRenderers\"},{\"attributes\":{},\"id\":\"1159\",\"type\":\"LinearScale\"},{\"attributes\":{\"data\":{\"City\":[\"Hilo\",\"Mahebourg\",\"Kapaa\",\"Ambanja\",\"Sao Filipe\",\"Shush\",\"Mahibadhoo\",\"Hithadhoo\",\"Rikitea\",\"Padang\",\"Puerto Ayora\",\"Georgetown\",\"Vila Velha\",\"Morondava\",\"Atuona\",\"Sao Joao Da Barra\",\"Lethem\",\"Itarema\",\"Avarua\",\"Souillac\",\"Yaounde\",\"Caravelas\",\"Sabang\",\"Cabo San Lucas\",\"Vaini\",\"Saint-Philippe\",\"Kourou\",\"Birnin Kebbi\",\"Galle\",\"Chuy\",\"Barreirinhas\",\"Sinnamary\",\"Mitsamiouli\",\"Tahoua\",\"Sao Jose Da Coroa Grande\",\"Sechura\",\"Manakara\",\"Borazjan\",\"Cidreira\",\"Amuntai\",\"Luanda\",\"Diego De Almagro\",\"Makanya\",\"Mazatlan\",\"Aswan\",\"Huarmey\",\"Bosaso\",\"Faanui\",\"Koumac\",\"Santa Rosa\",\"Maceio\",\"Wahiawa\",\"Grand Gaube\",\"Martapura\",\"Miri\",\"Montepuez\",\"Caetite\",\"San Nicolas\",\"Bodden Town\",\"Bitung\",\"Ambon\",\"Meulaboh\",\"Salalah\",\"Saint-Pierre\",\"Cockburn Town\",\"Wichian Buri\",\"The Valley\",\"Karratha\",\"Lahaina\",\"Bowen\",\"Sawakin\",\"Sur\",\"Vao\",\"Bengkulu\",\"Mareeba\",\"Pekan\",\"Maragogi\",\"Bandar-E Lengeh\",\"Ternate\",\"Moron\",\"Kloulklubed\",\"Porto Nacional\",\"Sao Gabriel Da Cachoeira\",\"Kathu\",\"Eyl\",\"Abu Dhabi\",\"Tomatlan\",\"Tual\",\"Kampot\",\"Palembang\",\"Isangel\",\"Ca Mau\",\"Paka\",\"Mana\",\"Namibe\",\"Manokwari\",\"Conakry\",\"Quatre Cocos\",\"Hualmay\",\"Salinopolis\",\"Kavieng\",\"Sambava\",\"Puerto Baquerizo Moreno\",\"El Torno\",\"Takoradi\",\"Pombas\",\"Domoni\",\"Neiafu\",\"Callaway\",\"Makakilo City\",\"Bathsheba\",\"Hambantota\",\"Rocha\",\"Tabuk\",\"Praia\",\"Abeche\",\"Jacareacanga\",\"Omboue\",\"Maumere\",\"Lorengau\",\"Santa Maria Da Vitoria\",\"Kununurra\",\"Port Blair\",\"Bako\",\"Daru\",\"Antalaha\",\"Kahului\",\"San Carlos Del Zulia\",\"Biltine\",\"Atar\",\"Mayumba\",\"Bull Savanna\",\"Iquique\",\"Mindelo\",\"Banda Aceh\",\"Bubaque\",\"Atambua\",\"Acapulco\",\"Kendari\",\"Manado\",\"Cabinda\",\"Dawei\",\"Sirajganj\",\"Langsa\",\"Melo\",\"Trincomalee\",\"Port Hedland\",\"Kalmunai\",\"Lhokseumawe\",\"Bontang\",\"Namatanai\",\"Lazaro Cardenas\",\"Puerto Leguizamo\",\"Bac Lieu\",\"Beira\",\"Celestun\",\"Imbituba\",\"Tabou\",\"San Andres\",\"Angoche\",\"Paraiso\",\"Akyab\",\"Kimbe\",\"Boa Vista\",\"Buraydah\",\"Anloga\"],\"City_Weather_Description\":[\"few clouds\",\"scattered clouds\",\"clear sky\",\"moderate rain\",\"broken clouds\",\"light rain\",\"scattered clouds\",\"scattered clouds\",\"overcast clouds\",\"light rain\",\"broken clouds\",\"few clouds\",\"overcast clouds\",\"overcast clouds\",\"broken clouds\",\"overcast clouds\",\"broken clouds\",\"overcast clouds\",\"broken clouds\",\"light rain\",\"overcast clouds\",\"overcast clouds\",\"overcast clouds\",\"few clouds\",\"broken clouds\",\"scattered clouds\",\"overcast clouds\",\"clear sky\",\"overcast clouds\",\"few clouds\",\"scattered clouds\",\"broken clouds\",\"clear sky\",\"clear sky\",\"overcast clouds\",\"few clouds\",\"light rain\",\"few clouds\",\"overcast clouds\",\"light rain\",\"scattered clouds\",\"clear sky\",\"overcast clouds\",\"few clouds\",\"clear sky\",\"broken clouds\",\"clear sky\",\"few clouds\",\"overcast clouds\",\"overcast clouds\",\"scattered clouds\",\"clear sky\",\"scattered clouds\",\"broken clouds\",\"moderate rain\",\"broken clouds\",\"overcast clouds\",\"scattered clouds\",\"few clouds\",\"overcast clouds\",\"scattered clouds\",\"overcast clouds\",\"broken clouds\",\"overcast clouds\",\"clear sky\",\"moderate rain\",\"scattered clouds\",\"light rain\",\"broken clouds\",\"overcast clouds\",\"scattered clouds\",\"overcast clouds\",\"overcast clouds\",\"overcast clouds\",\"light rain\",\"light rain\",\"overcast clouds\",\"broken clouds\",\"overcast clouds\",\"broken clouds\",\"overcast clouds\",\"overcast clouds\",\"scattered clouds\",\"overcast clouds\",\"clear sky\",\"overcast clouds\",\"clear sky\",\"overcast clouds\",\"broken clouds\",\"overcast clouds\",\"overcast clouds\",\"overcast clouds\",\"overcast clouds\",\"scattered clouds\",\"broken clouds\",\"overcast clouds\",\"scattered clouds\",\"light rain\",\"overcast clouds\",\"overcast clouds\",\"scattered clouds\",\"light rain\",\"broken clouds\",\"scattered clouds\",\"overcast clouds\",\"broken clouds\",\"few clouds\",\"overcast clouds\",\"overcast clouds\",\"clear sky\",\"light intensity shower rain\",\"overcast clouds\",\"scattered clouds\",\"broken clouds\",\"haze\",\"clear sky\",\"overcast clouds\",\"overcast clouds\",\"overcast clouds\",\"overcast clouds\",\"overcast clouds\",\"overcast clouds\",\"overcast clouds\",\"overcast clouds\",\"heavy intensity rain\",\"clear sky\",\"scattered clouds\",\"overcast clouds\",\"clear sky\",\"clear sky\",\"broken clouds\",\"scattered clouds\",\"clear sky\",\"few clouds\",\"overcast clouds\",\"scattered clouds\",\"overcast clouds\",\"scattered clouds\",\"light rain\",\"scattered clouds\",\"few clouds\",\"overcast clouds\",\"clear sky\",\"overcast clouds\",\"overcast clouds\",\"broken clouds\",\"broken clouds\",\"overcast clouds\",\"overcast clouds\",\"overcast clouds\",\"broken clouds\",\"clear sky\",\"overcast clouds\",\"moderate rain\",\"few clouds\",\"scattered clouds\",\"overcast clouds\",\"broken clouds\",\"scattered clouds\",\"overcast clouds\",\"overcast clouds\",\"clear sky\",\"broken clouds\",\"scattered clouds\",\"scattered clouds\",\"broken clouds\"],\"Country\":[\"US\",\"MU\",\"US\",\"MG\",\"CV\",\"IR\",\"MV\",\"MV\",\"PF\",\"ID\",\"EC\",\"MY\",\"BR\",\"MG\",\"PF\",\"BR\",\"GY\",\"BR\",\"CK\",\"MU\",\"CM\",\"BR\",\"ID\",\"MX\",\"TO\",\"RE\",\"GF\",\"NG\",\"LK\",\"UY\",\"BR\",\"GF\",\"KM\",\"NE\",\"BR\",\"PE\",\"MG\",\"IR\",\"BR\",\"ID\",\"AO\",\"CL\",\"TZ\",\"MX\",\"EG\",\"PE\",\"SO\",\"PF\",\"NC\",\"PH\",\"BR\",\"US\",\"MU\",\"ID\",\"MY\",\"MZ\",\"BR\",\"PH\",\"KY\",\"ID\",\"ID\",\"ID\",\"OM\",\"RE\",\"TC\",\"TH\",\"AI\",\"AU\",\"US\",\"AU\",\"SD\",\"OM\",\"NC\",\"ID\",\"AU\",\"MY\",\"BR\",\"IR\",\"ID\",\"AR\",\"PW\",\"BR\",\"BR\",\"TH\",\"SO\",\"AE\",\"MX\",\"ID\",\"KH\",\"ID\",\"VU\",\"VN\",\"MY\",\"GF\",\"AO\",\"ID\",\"GN\",\"MU\",\"PE\",\"BR\",\"PG\",\"MG\",\"EC\",\"BO\",\"GH\",\"CV\",\"KM\",\"TO\",\"US\",\"US\",\"BB\",\"LK\",\"UY\",\"PH\",\"CV\",\"TD\",\"BR\",\"GA\",\"ID\",\"PG\",\"BR\",\"AU\",\"IN\",\"ET\",\"PG\",\"MG\",\"US\",\"VE\",\"TD\",\"MR\",\"GA\",\"JM\",\"CL\",\"CV\",\"ID\",\"GW\",\"ID\",\"MX\",\"ID\",\"ID\",\"AO\",\"MM\",\"BD\",\"ID\",\"UY\",\"LK\",\"AU\",\"LK\",\"ID\",\"ID\",\"PG\",\"MX\",\"CO\",\"VN\",\"MZ\",\"MX\",\"BR\",\"CI\",\"CO\",\"MZ\",\"CR\",\"MM\",\"PG\",\"BR\",\"SA\",\"GH\"],\"Hotel_Name\":[\"Dolphin Bay Hotel\",\"Grand Bel Air\",\"Pono Kai Resort\",\"H\\u00f4tel Salama Rose\",\"Bela Vista\",\"\\u0647\\u062a\\u0644 \\u0622\\u067e\\u0627\\u062f\\u0627\\u0646\\u0627\",\"Coral View Inn\",\"Pebbles Inn\",\"Chez Bianca & Benoit\",\"losmen Surya\",\"Hostal La Mirada De Solitario George\",\"Page 63 hostel\",\"Hotel Prainha\",\"Hotel Sharon Menabe\",\"Pearl Resort\",\"Pousada Mediterr\\u00e2neo\",\"Hotel Amazonas\",\"Pousada O\\u00e1sis\",\"Paradise Inn\",\"Hotel SkylineInn\",\"Bouns hotel\",\"Pousada dos Navegantes\",\"Sabang Hill\",\"Comfort Rooms\",\"Keleti International Resort\",\"Le Baril\",\"SCI Horizon\",\"Fab Hotel\",\"Jungle Hostel Villa\",\"Alerces\",\"Pousada Matriz\",\"H\\u00f4tel du fleuve\",\"Hotel le Paradis\",\"Hotel Bungalow\",\"Hotel do Sol\",\"Hospedaje Claritza\",\"Hotel H1\",\"\\u0645\\u0639\\u0644\\u06cc\",\"Hotel Castelo\",\"Grand Balqis Hotel\",\"Hotel Forum\",\"Residencial Hambyll\",\"Mchome\",\"Mona Inn\",\"Yaseen hotel\",\"Hostal Santa Rosa\",\"Bosaso hotel\",\"Oa Oa Lodge\",\"Monitel Koumac\",\"JARS RESORT\",\"Macei\\u00f3 Hostel e Pousada\",\"The Inn At Schofield\",\"Coco Villa\",\"Q-Hotel Grand Dafam\",\"Kenyalang Suites Miri\",\"Complexo Messalo\",\"Hotel Le Parc\",\"Mira de Polaris Hotel\",\"Turtle Nest Inn\",\"Divers Lodge Lembeh\",\"Hotel Hero\",\"Hotel Meuligou\",\"Muscat International Hotel\",\"Tropic Hotel\",\"The Salt Raker Inn\",\"Javarach\",\"CeBlue\",\"Karratha International Hotel\",\"Best Western Pioneer Inn\",\"Whitsunday Sands Resort\",\"Hotel Halfa\",\"Sur Hotel\",\"Nataiwatch\",\"Dena Hotel\",\"The Gateway Hotel\",\"Ancasa Royale Hotel\",\"Pousada Mariluz\",\"Old owner do not like foreigners hotel\",\"Boulivard ternate\",\"La Esquina\",\"The Adventures Inn\",\"Alian\\u00e7a\",\"Casa de H\\u00f3spedes do CFRN/5\\u00baBIS\",\"Tinidee Hotel\",\"\\u0641\\u0646\\u062f\\u0642 \\u0627\\u064a\\u0644 \\u062f\\u0627\\u0628\\u064a\",\"Marriott Downtown Abu-Dhabi\",\"Hotel Hacienda Vieja Tomatlan\",\"Suita\",\"Sambor Sambat Guesthouse\",\"OYO 183 The Pipe House\",\"Tanna Lodge\",\"Kh\\u00e1ch s\\u1ea1n Song Ng\\u1ecdc\",\"Paka Inn\",\"Le Samana\",\"Hotel Chik Chik Namibe\",\"Hotel Arfak\",\"Hotel del Fanta (sleazy but rooms for 100k or even less)\",\"Horisun\",\"Hotel Mi Choacan\",\"Hotel Salin\\u00f3polis\",\"Kavieng Hotel\",\"Royal Sava H\\u00f4tel\",\"Dory's House\",\"Jhoni\",\"Hillcrest\",\"Aldeia Jerome\",\"Hotel Djadid\",\"Port Wine Guest House\",\"Holiday Inn Express & Suites Panama City-Tyndall\",\"Embassy Suites by Hilton Oahu Kapolei\",\"Atlantis Hotel\",\"Oasis Aurweda Resort Hambathota\",\"Hotel Municipal\",\"Davidson Hotel\",\"Casa Sodadi\",\"\\u0641\\u0646\\u062f\\u0642 \\u0642\\u064a\\u0635\\u0631\",\"Hotel S\\u00e3o Cristov\\u00e3o\",\"Georges Faustin Aurat\",\"Bogor\",\"Seeadler Bay Hotel\",\"Hotel Passarela\",\"Kununurra Country Club Resort\",\"Andaman Ocean Breeze\",\"Goh Hotel\",\"Kuki\",\"H\\u00f4tel Florida\",\"Maui Seaside Hotel\",\"Hotel Bol\\u00edvar\",\"\\u0641\\u0646\\u062f\\u0642 \\u062b\\u0644\\u0627\\u062b \\u0646\\u062c\\u0648\\u0645 \\u0628\\u0644\\u062a\\u0646\",\"\\u0641\\u0646\\u062f\\u0642 \\u0633\\u0643\\u0644\\u064a\\u0644\",\"R\\u00e9sidence H\\u00f4teli\\u00e8re Fabso\",\"Junction Guest House\",\"Hostal Vivar\",\"Solar Windelo\",\"Hotel 61\",\"Chez Julio\",\"Hotel Matahari\",\"Hotel del Valle\",\"Hotel Agung\",\"Swiss Belhotel\",\"Hotel Mayombe\",\"Royal Dawei \\u101f\\u102d\\u102f\\u1010\\u101a\\u103a\",\"Purbani\",\"Harmoni Hotel\",\"Hotel Crown\",\"Silver Star Inn\",\"The Esplanade Hotel\",\"Saji new food\",\"Vina Vira Hotel\",\"Hotel Sederhana\",\"Namatanai Hotel\",\"Hotel Sol del Pac\\u00edfico\",\"Hotel Girasoles\",\"Kh\\u00e1ch s\\u1ea1n B\\u1ea1c Li\\u00eau\",\"Hotel Savoy\",\"Hotel Flamingo Playa\",\"Silvestre Praia Hotel\",\"h\\u00f4tel le rochet\",\"Hotel Decameron Isle\\u00f1o\",\"Hotel Quirimbas\",\"Cabinas\",\"Yuzana Aung Motel 1\",\"Kimbe Bay Hotel\",\"Aipana Plaza Hotel\",\"\\u062f\\u0646\\u0627 \\u0644\\u0644\\u0648\\u062d\\u062f\\u0627\\u062a \\u0627\\u0644\\u0633\\u0643\\u0646\\u064a\\u0629\",\"Hotel de White House\"],\"Lat\":{\"__ndarray__\":\"YUrfwgYZQUG4c1aUD7ZBwd+mGyX2OkNBFOr8NnN3N8GskD7wrJc5QTrPE70O6ExBGxqbo1W5GUGcIOykjk7wwEx2TLEWMUTBTWqctVTM+cBkpIGIzBf0wPzb9AQLaSJB+dvZy+CjQcGUV2MJH5lBweLbYYdhujDBTWLbrBTVQsH/DWII//oWQXycMvmC4RPBsr0A6xBwQsELDn9SQ89BwWVAULu4ShpBEmcIcNSTPsHIgIUBXg4kQQHjZBTn+kNBMDbdPj9uQsEwtVLKOpNCwRWnADp0iSFB9/M3O6FSNUEV6sk/woskQWVjRg51bU7BtMtE3bKrEsE/j826q1AiQUN4W8RxdzPBCq+hD2SUOUGlUAEJkFkuwdRj0q9W6CLBZZgfhJhIQ8HvNXEZawNKQURFvO5g6ErBYRAOJ4RuEMHJlPXF3iMuwXsqstNsOkfBjb9rWKiyHcESpJ/64kdEQWi1uLj8F0VBjOpylrwwMcHLUume30ozQQsMpxOYZDzBsm5vRt/aQcGtJbv3SpE4Qe4B3kgsfzDB9f89DO+0QkGN+RyO/lhBwRS/e7RrOhfBzhOGQpEGHkHeY65rJX42wdWARtVjJDjBwM9YRxVmP0H7jAI7D7JAQdz9CtamowNBzCOxMh4gGcGVRTklzSAcQZ5bBNcWVj1Bsya6Y7+OQsFKDye/NqtCQQ8zs78H7zpBcMHptnN6P0HZalu6mgJCwVYKVohOI0JBV8knsGBbQcH83DzzN4lAQfk6T+F6rkNBEwxSjAjGQ8HkbuqYJNcZwXwtVgo5Tz3B1u5k5P6uF0GBrKY5SL4uwXm9EXncaEdBM+NcyCe+9UAiK4xjx2hPwST/AHuz+ydBQlApsqxLMsEo23mYeFTMwBYqo5QA/CpBdfVzhOIyK0H9rPTEBnFFQcWKtogVSEFBbu06LUpII8HM8S5WOyMyQZEA0odn0xPBIj9i4IrvQMEZdPW2V08vQcIHmUT2ih9B5lDwMbxBI0G+sB5gwh46wWheXYREjvfAPm3Cgs9GMEEthbcAoIdBwa+BhaWg9zLBJJ2+Hy+t8MC3761+VX8RwW8XsDjgfDjB/bCdl/p1+MCG5cx5eBM/wfhHi74fnSBB2yMF4peTPUGPBwpS7/o0wb/EtA12IEDB0v8W4k/hSkF8MhKNhZBCQVFmqJzUpjZB70+3/DLYJEFZJRjA3TtPwedE4nnqDT5BS5cG9BqjOUEEP0hcxLg3QYku/UEDLiXBSzFO6E1mBcEydEWKBmUtwcLjpKOMfQvBemPYEl72NsHAVzYBOSA7wTPFGPGX9DNBLibeBDSuI0FqqmcMu/YuwcNvbL6QmTnBhDvOjR8nQkHUcCEgirMuQeLvS6eQ9DhBaN1HNU/PQUF/DMGkFFUXwXfJLe1u4z5BN7B1EqOKQcFce9DGQx09QauNm6MJ6SJBdYpbdXlKM0FXYCEY+hAvwRLrd8YhET1BAygDKzvTGsF6WERZdTUEQcJkwDtP4iLB+RE/E58qOEGilqadCW1FQfG1qWPnYx5B9uUdRWsUTcH9yN9WGjotQb1Ugi/doEHBRBXCY0VEKUFB6+aPMp8hQYZPp2Rz+8xARuryTBjuGMGdvrI1HAQ/Qf/O6r5OBtXA+6A6wpauL0HJe/kvWDNBwSD4d4ibIEJBvuwfEdEEScEoeuNs3xQeQZHAhnbkjDVBuC3gUe/yO8FEvGBzSMswQQErLH08ekFBA9yO+HviIsFlo0RjeSoTQbdpl+SMMEdBQzsfHSu4I0E=\",\"dtype\":\"float64\",\"order\":\"little\",\"shape\":[166]},\"Lng\":{\"__ndarray__\":\"aOs7vfl2cMFk9Zmnl4BYQSxUQt/o6XDBoUENVQWTVEHUkP3b2s1EweovGz+VfFRBWyzj+D38XkERm3Tv6ghfQfifvNNHqGzBArVlssdOZUEqwMiLFy9jweyHXrTATWVB8GVMJTccUcH8ewaaDs5SQQQOGYUvhW3Be68a465uUcFbq+5UiWRZwXUi9q1c81DBkJBDek32cMECGWRwqmxYQfuA+y3xjzNBATFsoK2qUMHc4LU2Nz1kQQy1ywxQVmfB8XmXbISZcsFJUcKOja5XQbSIZJJdW1bBtnYbQP6EHEGyj/lyNghhQYYSsoXVs1bBR7OXQq0vUsF9dmbCN3xWwdy3gVd3YVJBrOZfUonmIUG9kmiZ3dlNwa7nwsQbKWHBMxv9pepjVEHMLSX6s79VQdUW7XTfUVXBUxy2EGh4aEHuL3mJ03o2QfHYH5Uqv13BXNI57N8QUEGRiWObTZhmwU1z5D2r8ktB6Mx34/qXYMFaCseqjeJUQbpkpcszHHDBtlTU1NNwcUGPhBJsCbdpQZC7HbOZWU7BCxL3KrTGcMFSTUO5VHxYQYs9kHCyYmhBY3A0lvo0aEHGj6+vrI9QQUu+xdd5CVLBIgFr7PuaaUG9ABCUXEBhwZ7mxiBRlGpBJl6rBVQ3a0FOjHb1FWlkQZ1PH5to+FZB2z/mdQyPV0G2kUAF3jVewcTl9I2jd2VBm1bwiwrHWsGJGr/TNM9oQXMG3IFBonDBGfov70B5b0FK/10ux7RPQaOQeLVpR1lBdw7CusvHcUF20FfsqbZlQQf1zxwP4W5BJk8/2k70ZUFCBtphG+pNwd8mBOUaTldBiuYQ5NoMa0GCb1SSleRYwTmR5iB+gWxB1Twtg3SPVMF0CDvlS31cwav7EDjs4GRBfW3+EZAnVUGcDQxXOhZXQQfj/QzjWGbBpsvjzKcvbEEZGPf85x5mQWerzCN7PWZBEtmirUP4cUFrB5+Oc1NmQa0Z+HxU9mVBaiETtxbWVsH49Ey3SKQ0QVmXwZUgeGxBiQdJEnY7N8Hoh5AFY4dYQU6Gcnq4emDB2HUHPBocVMGIhrc9SwJwQWj+69+kTVVBIqIATDoGY8Hdf5EfVOpawS0DhN+R2gfBHQtTZeQ/RcFR0qYbFelSQcbvzEVzeHLBzFU/tisrYsHDUh/sZMhwwWRpNi8WRlnBUC+lwzY5YUGA6YDSmBJXwQ8HWLQhyWlB3uywQUj3Q8FR8HoUZrFBQW+4bBJVhljBcoY7uNV2L0FvLHutz/JpQXStwl/1RG9B/APbHMPDUsE+su6sU1VrQdanrFhysWNBPFFFNl0OT0EzthHnKmhuQVICeprUWVVBHT2XC3uccMHq1t+Mv4lewatNUDK6w0FBJC4QOaQqNsFhSsOzaRkyQfvbvrFueWDBIqgti0nJXcFyMTO0QjdFwRBLfVhCPWRBqnjB5PrkOsGh8B8wj4RqQaI7J2KMNWXBpKt2ZXQCakEYUZwvAYJqQeVCpckRuTRBjmjev67ZZEHGRoIrkgxjQffgoqgWzWRBrFZkV0oCV8FEEl/7dj9hQR/EaBW4LGlBn4E8LCpfYUGW44jOpaBkQTH5YQW98mhB2QBg1cUucEHwuLB+GrNlwRTS08GSwV/BhebqS6xyZkFQUcxNtJZNQQR/9z62MWPB9/3QQPiqVMFHEGDnm/oowaNsEKbaWGHBz/vvQXvyUEGV5WJ8iM5hwUDxOpaZuWNBIkGT5Qzhb0HKfBY30sNZwZR646aKrFJBqwVZqu9i+EA=\",\"dtype\":\"float64\",\"order\":\"little\",\"shape\":[166]},\"Max_Temp\":{\"__ndarray__\":\"UrgehevRVECPwvUoXA9TQHsUrkfhOlRApHA9CtdzUkAfhetRuA5TQKRwPQrX01FAMzMzMzMjVEA9CtejcE1UQOF6FK5HEVJAmpmZmZnZUkBxPQrXo7BTQB+F61G4TlRAAAAAAACwU0BxPQrXo6BTQNejcD0Kd1NA9ihcj8JFU0Bcj8L1KOxVQOxRuB6Fa1RAmpmZmZkpVECF61G4HuVSQGZmZmZmBlJAmpmZmZnpU0BxPQrXoyBUQAAAAAAA4FRAcT0K16MwVEDD9Shcj7JSQM3MzMzMnFRA4XoUrkdBU0DNzMzMzDxTQOF6FK5H4VJACtejcD3aVEBmZmZmZqZTQIXrUbgepVNAhetRuB4lVECkcD0K11NTQHsUrkfh+lJAhetRuB5FUkC4HoXrUThSQB+F61G47lFAZmZmZmZ2UkAzMzMzM7NTQEjhehSuh1JAKVyPwvUYUkA9CtejcH1VQJqZmZmZuVFAcT0K16MAUkDXo3A9CldTQHsUrkfh+lNAH4XrUbhOVECF61G4HiVUQClcj8L16FRA7FG4HoXLU0BI4XoUrhdTQMP1KFyP0lJA9ihcj8LVUkApXI/C9XhSQArXo3A9ilJAAAAAAADAU0CPwvUoXL9VQAAAAAAAkFJAj8L1KFyPU0DXo3A9CudSQClcj8L1uFNACtejcD26UkBxPQrXoyBUQGZmZmZmllNApHA9CtczVUA9CtejcE1UQFyPwvUoPFRAw/UoXI/SUUAAAAAAAIBUQPYoXI/CtVJAmpmZmZlZU0DhehSuR6FSQOF6FK5HoVFAPQrXo3C9U0DXo3A9CkdTQB+F61G4LlNAcT0K16MwVEAfhetRuL5TQDMzMzMz01NAZmZmZmYmVECamZmZmVlWQAAAAAAAcFVAcT0K16NwU0AUrkfherRTQHE9CtejwFVA4XoUrkeBVEAzMzMzM0NTQDMzMzMzs1JAw/UoXI9iVECamZmZmelSQB+F61G4PlNA9ihcj8LFU0AAAAAAAIBRQAAAAAAAUFNAzczMzMyMVECF61G4HgVTQFyPwvUo3FFAAAAAAABQVEDNzMzMzFxUQFyPwvUonFJA9ihcj8IlUkDhehSuR1FUQAAAAAAA8FNAH4XrUbi+UkDhehSuR2FTQM3MzMzM7FNAzczMzMxcUkCPwvUoXP9TQD0K16NwTVRAMzMzMzMDU0DXo3A9CldUQIXrUbgehVJAj8L1KFzvUkD2KFyPwjVTQJqZmZmZyVVAzczMzMxMU0BI4XoUrsdTQClcj8L1OFRAFK5H4XokU0CF61G4HuVRQLgehetRGFRAj8L1KFw/UkAK16NwPRpTQD0K16Nw/VFArkfhehR+VEBI4XoUrrdUQJqZmZmZWVNAUrgeheuBUkC4HoXrUVhTQGZmZmZmNlRAKVyPwvXoUUAzMzMzMyNTQIXrUbgedVNA9ihcj8J1VEBxPQrXo1BSQB+F61G43lRAcT0K16PgUkB7FK5H4YpSQI/C9ShcL1RA4XoUrkehUkAfhetRuP5RQFyPwvUonFJA9ihcj8JlVEDhehSuR/FTQGZmZmZmtlNAuB6F61FYU0DD9Shcj3JTQHsUrkfh+lJAPQrXo3DNU0BmZmZmZsZUQPYoXI/C5VRAzczMzMzMU0CPwvUoXF9SQOF6FK5H8VRA16NwPQq3UkAAAAAAANBTQOF6FK5HgVVAhetRuB7VUkBxPQrXo+BRQFyPwvUoHFNACtejcD3KUkCF61G4HmVWQDMzMzMzA1JAKVyPwvVIVEA=\",\"dtype\":\"float64\",\"order\":\"little\",\"shape\":[166]},\"color\":[\"Hilo\",\"Mahebourg\",\"Kapaa\",\"Ambanja\",\"Sao Filipe\",\"Shush\",\"Mahibadhoo\",\"Hithadhoo\",\"Rikitea\",\"Padang\",\"Puerto Ayora\",\"Georgetown\",\"Vila Velha\",\"Morondava\",\"Atuona\",\"Sao Joao Da Barra\",\"Lethem\",\"Itarema\",\"Avarua\",\"Souillac\",\"Yaounde\",\"Caravelas\",\"Sabang\",\"Cabo San Lucas\",\"Vaini\",\"Saint-Philippe\",\"Kourou\",\"Birnin Kebbi\",\"Galle\",\"Chuy\",\"Barreirinhas\",\"Sinnamary\",\"Mitsamiouli\",\"Tahoua\",\"Sao Jose Da Coroa Grande\",\"Sechura\",\"Manakara\",\"Borazjan\",\"Cidreira\",\"Amuntai\",\"Luanda\",\"Diego De Almagro\",\"Makanya\",\"Mazatlan\",\"Aswan\",\"Huarmey\",\"Bosaso\",\"Faanui\",\"Koumac\",\"Santa Rosa\",\"Maceio\",\"Wahiawa\",\"Grand Gaube\",\"Martapura\",\"Miri\",\"Montepuez\",\"Caetite\",\"San Nicolas\",\"Bodden Town\",\"Bitung\",\"Ambon\",\"Meulaboh\",\"Salalah\",\"Saint-Pierre\",\"Cockburn Town\",\"Wichian Buri\",\"The Valley\",\"Karratha\",\"Lahaina\",\"Bowen\",\"Sawakin\",\"Sur\",\"Vao\",\"Bengkulu\",\"Mareeba\",\"Pekan\",\"Maragogi\",\"Bandar-E Lengeh\",\"Ternate\",\"Moron\",\"Kloulklubed\",\"Porto Nacional\",\"Sao Gabriel Da Cachoeira\",\"Kathu\",\"Eyl\",\"Abu Dhabi\",\"Tomatlan\",\"Tual\",\"Kampot\",\"Palembang\",\"Isangel\",\"Ca Mau\",\"Paka\",\"Mana\",\"Namibe\",\"Manokwari\",\"Conakry\",\"Quatre Cocos\",\"Hualmay\",\"Salinopolis\",\"Kavieng\",\"Sambava\",\"Puerto Baquerizo Moreno\",\"El Torno\",\"Takoradi\",\"Pombas\",\"Domoni\",\"Neiafu\",\"Callaway\",\"Makakilo City\",\"Bathsheba\",\"Hambantota\",\"Rocha\",\"Tabuk\",\"Praia\",\"Abeche\",\"Jacareacanga\",\"Omboue\",\"Maumere\",\"Lorengau\",\"Santa Maria Da Vitoria\",\"Kununurra\",\"Port Blair\",\"Bako\",\"Daru\",\"Antalaha\",\"Kahului\",\"San Carlos Del Zulia\",\"Biltine\",\"Atar\",\"Mayumba\",\"Bull Savanna\",\"Iquique\",\"Mindelo\",\"Banda Aceh\",\"Bubaque\",\"Atambua\",\"Acapulco\",\"Kendari\",\"Manado\",\"Cabinda\",\"Dawei\",\"Sirajganj\",\"Langsa\",\"Melo\",\"Trincomalee\",\"Port Hedland\",\"Kalmunai\",\"Lhokseumawe\",\"Bontang\",\"Namatanai\",\"Lazaro Cardenas\",\"Puerto Leguizamo\",\"Bac Lieu\",\"Beira\",\"Celestun\",\"Imbituba\",\"Tabou\",\"San Andres\",\"Angoche\",\"Paraiso\",\"Akyab\",\"Kimbe\",\"Boa Vista\",\"Buraydah\",\"Anloga\"],\"size\":{\"__ndarray__\":\"aF+4PGdAIkDe9TT7jXYhQPq5WVC5/SFA04zRjLsuIUAn2hrsQnYhQMVh98KY4yBAkzDeoi7zIUCs4vgu+AUiQKwiEjGaACFAyMAqxdtdIUD0Bl121r8hQPaFJZ+JBiJAotEunYy/IUBAwDbYnrghQOimmDnNpSFAjapLGmiPIUA1oXS6hLoiQPiDkEJNEyJAqE1hngj2IUBx1I17KWMhQIZip+F6+yBAGaaJS3DZIUCfZi+ECvIhQEnq1BqSRiJAJP6tEyv5IUAUuCuK1kshQNc9P74PKSJA+zoufl2NIUDeOUGlUoshQK5UdRdlYSFAM0fEdAxEIkAumk1TOLshQK15RXmkuiFAXQyyrQn0IUBkt0IM0ZUhQNHyj6UpbSFAlEGiH+0YIUAkqM/U7hIhQPOrtH9P8CBAmXsNo+wvIUBFFxbP/cAhQDYw0tD1NyFAKCji5DYEIUCadm8D/YoiQKVjgUIm1yBAXS9TCMT4IEDQLAuqRZchQNL4E0ot4SFA9oUln4kGIkBdDLKtCfQhQOM3icF9SiJA5+QH3+/LIUBPcfNMXXohQN00VUKdWiFAoorc1hZcIUCVVyOkHTEhQA67mUMmOSFAcLgta8HGIUALOZj2V6ciQLQcCvnSOyFAlZU3HNCwIUCxBV2cC2QhQE6WlBCWwyFArlLvimNPIUCfZi+ECvIhQM1/N9P+syFAJfOpyCBrIkCs4vgu+AUiQMBMLANL/iFA3/ALif3iIEAk+NlwWxwiQJX6KGFRTSFAHlatq2+YIUBHHeuc1kMhQHoz+K2UyyBAcHM/cprFIUAwRFBg/Y8hQBtSYtzlhCFAJP6tEyv5IUCufRrxLcYhQFE14FVjzyFANG8dr5v0IUAVbHBhCukiQM2ZmLQvhSJAqmo7ReaiIUA0YUB0kcEhQJ3JuHzkpyJA9XtDLewcIkDWsmJ/PY4hQJaLXFEiTCFAp7/OoFUPIkB2tZQLOWUhQLIbiMAyjCFANg1o1VjJIUDbr6wHs7sgQC9Zy78RlCFAxozlAQIiIkCdzDBy3HEhQB80ujOJ5yBAONi8ChsHIkA00vBCyAwiQPIxjRt3QSFAt+f5XDoKIUBZSL9xrAciQCgzOGNO3CFAXL9PdXVRIUCrEGA67ZshQDmgHWbf2iFAtJksCv4jIUAFeIJVLuMhQKzi+C74BSJA8PSABPtwIUCcbKOIOgoiQPMgAknFNiFASGND+95nIUCJiiqMHIghQDTk7rO7qyJA5jEZ3pySIUCXFFfjNcohQHIbebve/CFAGWMeLDiAIUCHvHUwxusgQJhQFKBU7iFApuvC8zoWIUAJuVc7iXshQEGbVNFB9yBAuoLCTYIbIkBDNS064zQiQB5WratvmCFAd26jgUg1IUDJPFOt2pchQCnVKDq7+yFAcSrn25btIEB6+pFfon8hQA+xhGPupCFAP2u86tQXIkCYCksxUB4hQNXFS6gCRiJARF34rBlhIUDJywJdcjkhQNENTzeZ+CFARx3rnNZDIUB4UdlR3PcgQPIxjRt3QSFAQJ4udMAQIkBiTp0m4dwhQN5SAuNuwiFAyTxTrdqXIUCJ1/k0xaMhQNHyj6UpbSFAzczMzMzMIUChCHXiWTsiQNcm2GcXSSJAgodmKYPMIUDt/IXfLyUhQPCOSfcgTiJA3c1I4ehNIUDVP4BO880hQK2vxQ2ljCJAuoRSVctbIUAOgRTUp+kgQEfH8iBqfCFAn9Sk9sZWIUBib4tg6e0iQDCkaOj4+SBAW4Y+AvsDIkA=\",\"dtype\":\"float64\",\"order\":\"little\",\"shape\":[166]}},\"selected\":{\"id\":\"1217\"},\"selection_policy\":{\"id\":\"1229\"}},\"id\":\"1216\",\"type\":\"ColumnDataSource\"},{\"attributes\":{\"fill_color\":{\"field\":\"color\",\"transform\":{\"id\":\"1215\"}},\"hatch_color\":{\"field\":\"color\",\"transform\":{\"id\":\"1215\"}},\"line_color\":{\"field\":\"color\",\"transform\":{\"id\":\"1215\"}},\"size\":{\"field\":\"size\"},\"x\":{\"field\":\"Lng\"},\"y\":{\"field\":\"Lat\"}},\"id\":\"1221\",\"type\":\"Scatter\"},{\"attributes\":{\"code\":\"\\n        var projections = Bokeh.require(\\\"core/util/projections\\\");\\n        var x = special_vars.data_x\\n        var y = special_vars.data_y\\n        if (projections.wgs84_mercator.invert == null) {\\n          var coords = projections.wgs84_mercator.inverse([x, y])\\n        } else {\\n          var coords = projections.wgs84_mercator.invert(x, y)\\n        }\\n        return \\\"\\\" + (coords[0]).toFixed(4)\\n    \"},\"id\":\"1234\",\"type\":\"CustomJSHover\"},{\"attributes\":{\"bottom_units\":\"screen\",\"coordinates\":null,\"fill_alpha\":0.5,\"fill_color\":\"lightgrey\",\"group\":null,\"left_units\":\"screen\",\"level\":\"overlay\",\"line_alpha\":1.0,\"line_color\":\"black\",\"line_dash\":[4,4],\"line_width\":2,\"right_units\":\"screen\",\"syncable\":false,\"top_units\":\"screen\"},\"id\":\"1174\",\"type\":\"BoxAnnotation\"},{\"attributes\":{\"axis_label\":\"y\",\"coordinates\":null,\"formatter\":{\"id\":\"1187\"},\"group\":null,\"major_label_policy\":{\"id\":\"1197\"},\"ticker\":{\"id\":\"1186\"}},\"id\":\"1165\",\"type\":\"LinearAxis\"},{\"attributes\":{\"fill_color\":{\"field\":\"color\",\"transform\":{\"id\":\"1215\"}},\"hatch_color\":{\"field\":\"color\",\"transform\":{\"id\":\"1215\"}},\"line_color\":{\"field\":\"color\",\"transform\":{\"id\":\"1215\"}},\"size\":{\"field\":\"size\"},\"x\":{\"field\":\"Lng\"},\"y\":{\"field\":\"Lat\"}},\"id\":\"1222\",\"type\":\"Scatter\"},{\"attributes\":{\"axis_label\":\"x\",\"coordinates\":null,\"formatter\":{\"id\":\"1185\"},\"group\":null,\"major_label_policy\":{\"id\":\"1190\"},\"ticker\":{\"id\":\"1184\"}},\"id\":\"1161\",\"type\":\"LinearAxis\"},{\"attributes\":{},\"id\":\"1197\",\"type\":\"AllLabels\"},{\"attributes\":{\"fill_alpha\":{\"value\":0.2},\"fill_color\":{\"field\":\"color\",\"transform\":{\"id\":\"1215\"}},\"hatch_alpha\":{\"value\":0.2},\"hatch_color\":{\"field\":\"color\",\"transform\":{\"id\":\"1215\"}},\"line_alpha\":{\"value\":0.2},\"line_color\":{\"field\":\"color\",\"transform\":{\"id\":\"1215\"}},\"size\":{\"field\":\"size\"},\"x\":{\"field\":\"Lng\"},\"y\":{\"field\":\"Lat\"}},\"id\":\"1223\",\"type\":\"Scatter\"},{\"attributes\":{\"source\":{\"id\":\"1216\"}},\"id\":\"1225\",\"type\":\"CDSView\"},{\"attributes\":{\"click_policy\":\"mute\",\"coordinates\":null,\"group\":null,\"items\":[{\"id\":\"1233\"}],\"location\":[0,0]},\"id\":\"1232\",\"type\":\"Legend\"},{\"attributes\":{\"axis\":{\"id\":\"1165\"},\"coordinates\":null,\"dimension\":1,\"grid_line_color\":null,\"group\":null,\"ticker\":null},\"id\":\"1168\",\"type\":\"Grid\"},{\"attributes\":{\"fill_alpha\":{\"value\":0.1},\"fill_color\":{\"field\":\"color\",\"transform\":{\"id\":\"1215\"}},\"hatch_alpha\":{\"value\":0.1},\"hatch_color\":{\"field\":\"color\",\"transform\":{\"id\":\"1215\"}},\"line_alpha\":{\"value\":0.1},\"line_color\":{\"field\":\"color\",\"transform\":{\"id\":\"1215\"}},\"size\":{\"field\":\"size\"},\"x\":{\"field\":\"Lng\"},\"y\":{\"field\":\"Lat\"}},\"id\":\"1220\",\"type\":\"Scatter\"},{\"attributes\":{\"dimension\":\"lat\"},\"id\":\"1186\",\"type\":\"MercatorTicker\"},{\"attributes\":{},\"id\":\"1157\",\"type\":\"LinearScale\"},{\"attributes\":{\"fill_color\":{\"field\":\"color\",\"transform\":{\"id\":\"1215\"}},\"hatch_color\":{\"field\":\"color\",\"transform\":{\"id\":\"1215\"}},\"line_color\":{\"field\":\"color\",\"transform\":{\"id\":\"1215\"}},\"size\":{\"field\":\"size\"},\"x\":{\"field\":\"Lng\"},\"y\":{\"field\":\"Lat\"}},\"id\":\"1219\",\"type\":\"Scatter\"},{\"attributes\":{\"dimension\":\"lat\"},\"id\":\"1187\",\"type\":\"MercatorTickFormatter\"},{\"attributes\":{},\"id\":\"1169\",\"type\":\"SaveTool\"},{\"attributes\":{\"end\":15487345.72573875,\"min_interval\":5,\"reset_end\":15487345.72573875,\"reset_start\":-15815395.022506434,\"start\":-15815395.022506434,\"tags\":[[[\"Lat\",\"Lat\",null]]]},\"id\":\"1146\",\"type\":\"Range1d\"},{\"attributes\":{\"coordinates\":null,\"data_source\":{\"id\":\"1216\"},\"glyph\":{\"id\":\"1219\"},\"group\":null,\"hover_glyph\":{\"id\":\"1222\"},\"muted_glyph\":{\"id\":\"1223\"},\"nonselection_glyph\":{\"id\":\"1220\"},\"selection_glyph\":{\"id\":\"1221\"},\"view\":{\"id\":\"1225\"}},\"id\":\"1224\",\"type\":\"GlyphRenderer\"},{\"attributes\":{\"axis\":{\"id\":\"1161\"},\"coordinates\":null,\"grid_line_color\":null,\"group\":null,\"ticker\":null},\"id\":\"1164\",\"type\":\"Grid\"},{\"attributes\":{\"code\":\"\\n        var projections = Bokeh.require(\\\"core/util/projections\\\");\\n        var x = special_vars.data_x\\n        var y = special_vars.data_y\\n        if (projections.wgs84_mercator.invert == null) {\\n          var coords = projections.wgs84_mercator.inverse([x, y])\\n        } else {\\n          var coords = projections.wgs84_mercator.invert(x, y)\\n        }\\n        return \\\"\\\" + (coords[1]).toFixed(4)\\n    \"},\"id\":\"1235\",\"type\":\"CustomJSHover\"},{\"attributes\":{\"callback\":null,\"formatters\":{\"$x\":{\"id\":\"1234\"},\"$y\":{\"id\":\"1235\"}},\"renderers\":[{\"id\":\"1224\"}],\"tags\":[\"hv_created\"],\"tooltips\":[[\"Lng\",\"$x{custom}\"],[\"Lat\",\"$y{custom}\"],[\"City\",\"@{City}\"],[\"Max Temp\",\"@{Max_Temp}\"],[\"Hotel Name\",\"@{Hotel_Name}\"],[\"Country\",\"@{Country}\"],[\"City Weather Description\",\"@{City_Weather_Description}\"]]},\"id\":\"1149\",\"type\":\"HoverTool\"}],\"root_ids\":[\"1139\"]},\"title\":\"Bokeh Application\",\"version\":\"2.4.3\"}};\n",
       "    var render_items = [{\"docid\":\"862bbfe1-3945-47e6-9af9-197eaa9e1337\",\"root_ids\":[\"1139\"],\"roots\":{\"1139\":\"6e19fb85-284c-4b23-900a-a8d42a976970\"}}];\n",
       "    root.Bokeh.embed.embed_items_notebook(docs_json, render_items);\n",
       "  }\n",
       "  if (root.Bokeh !== undefined && root.Bokeh.Panel !== undefined) {\n",
       "    embed_document(root);\n",
       "  } else {\n",
       "    var attempts = 0;\n",
       "    var timer = setInterval(function(root) {\n",
       "      if (root.Bokeh !== undefined && root.Bokeh.Panel !== undefined) {\n",
       "        clearInterval(timer);\n",
       "        embed_document(root);\n",
       "      } else if (document.readyState == \"complete\") {\n",
       "        attempts++;\n",
       "        if (attempts > 200) {\n",
       "          clearInterval(timer);\n",
       "          console.log(\"Bokeh: ERROR: Unable to run BokehJS code because BokehJS library is missing\");\n",
       "        }\n",
       "      }\n",
       "    }, 25, root)\n",
       "  }\n",
       "})(window);</script>"
      ],
      "text/plain": [
       ":Overlay\n",
       "   .Tiles.I  :Tiles   [x,y]\n",
       "   .Points.I :Points   [Lng,Lat]   (City,Max Temp,Hotel Name,Country,City Weather Description)"
      ]
     },
     "execution_count": 9,
     "metadata": {
      "application/vnd.holoviews_exec.v0+json": {
       "id": "1139"
      }
     },
     "output_type": "execute_result"
    }
   ],
   "source": [
    "# Configure the map plot\n",
    "map_plot = vacation_df.hvplot.points(\n",
    "    \"Lng\",\n",
    "    \"Lat\",\n",
    "    geo = True,\n",
    "    tiles = \"OSM\",\n",
    "    frame_width = 700,\n",
    "    frame_height = 500,\n",
    "    size = \"Max Temp\",\n",
    "    scale = 1,\n",
    "    color = \"City\",\n",
    "    hover_cols = [\"Hotel Name\", \"Country\", \"City Weather Description\"]\n",
    ")\n",
    "\n",
    "\n",
    "# Display the map\n",
    "map_plot"
   ]
  },
  {
   "cell_type": "markdown",
   "metadata": {},
   "source": [
    "## From the map, *choose four cities* that a customer might want to visit. They should be close together and in the same country. Use the `loc` method to create separate DataFrames for each city on the travel route."
   ]
  },
  {
   "cell_type": "code",
   "execution_count": 10,
   "metadata": {},
   "outputs": [],
   "source": [
    "# Create DataFrames for each city by filtering the 'vacation_df' using the loc method\n",
    "vacation_start = vacation_df.loc[vacation_df[\"City\"] == \"Bowen\"]\n",
    "vacation_end = vacation_df.loc[vacation_df[\"City\"] == \"Bowen\"]\n",
    "vacation_stop1 = vacation_df.loc[vacation_df[\"City\"] == \"Mareeba\"]\n",
    "vacation_stop2 = vacation_df.loc[vacation_df[\"City\"] == \"Kununurra\"]\n",
    "vacation_stop3 = vacation_df.loc[vacation_df[\"City\"] == \"Port Hedland\"]"
   ]
  },
  {
   "cell_type": "markdown",
   "metadata": {},
   "source": [
    "## Use the Pandas `concat` function to merge the DataFrame from each city in the itinerary to create a new DataFrame named `itinerary_df` to store the itinerary details"
   ]
  },
  {
   "cell_type": "code",
   "execution_count": 11,
   "metadata": {},
   "outputs": [
    {
     "data": {
      "text/html": [
       "<div>\n",
       "<style scoped>\n",
       "    .dataframe tbody tr th:only-of-type {\n",
       "        vertical-align: middle;\n",
       "    }\n",
       "\n",
       "    .dataframe tbody tr th {\n",
       "        vertical-align: top;\n",
       "    }\n",
       "\n",
       "    .dataframe thead th {\n",
       "        text-align: right;\n",
       "    }\n",
       "</style>\n",
       "<table border=\"1\" class=\"dataframe\">\n",
       "  <thead>\n",
       "    <tr style=\"text-align: right;\">\n",
       "      <th></th>\n",
       "      <th>City_ID</th>\n",
       "      <th>City</th>\n",
       "      <th>Country</th>\n",
       "      <th>Max Temp</th>\n",
       "      <th>City Weather Description</th>\n",
       "      <th>Lat</th>\n",
       "      <th>Lng</th>\n",
       "      <th>Hotel Name</th>\n",
       "    </tr>\n",
       "  </thead>\n",
       "  <tbody>\n",
       "    <tr>\n",
       "      <th>69</th>\n",
       "      <td>319</td>\n",
       "      <td>Bowen</td>\n",
       "      <td>AU</td>\n",
       "      <td>71.29</td>\n",
       "      <td>overcast clouds</td>\n",
       "      <td>-20.0167</td>\n",
       "      <td>148.2333</td>\n",
       "      <td>Whitsunday Sands Resort</td>\n",
       "    </tr>\n",
       "    <tr>\n",
       "      <th>74</th>\n",
       "      <td>354</td>\n",
       "      <td>Mareeba</td>\n",
       "      <td>AU</td>\n",
       "      <td>70.52</td>\n",
       "      <td>light rain</td>\n",
       "      <td>-17.0000</td>\n",
       "      <td>145.4333</td>\n",
       "      <td>The Gateway Hotel</td>\n",
       "    </tr>\n",
       "    <tr>\n",
       "      <th>121</th>\n",
       "      <td>542</td>\n",
       "      <td>Kununurra</td>\n",
       "      <td>AU</td>\n",
       "      <td>71.58</td>\n",
       "      <td>overcast clouds</td>\n",
       "      <td>-15.7667</td>\n",
       "      <td>128.7333</td>\n",
       "      <td>Kununurra Country Club Resort</td>\n",
       "    </tr>\n",
       "    <tr>\n",
       "      <th>146</th>\n",
       "      <td>629</td>\n",
       "      <td>Port Hedland</td>\n",
       "      <td>AU</td>\n",
       "      <td>78.85</td>\n",
       "      <td>broken clouds</td>\n",
       "      <td>-20.3167</td>\n",
       "      <td>118.5667</td>\n",
       "      <td>The Esplanade Hotel</td>\n",
       "    </tr>\n",
       "    <tr>\n",
       "      <th>69</th>\n",
       "      <td>319</td>\n",
       "      <td>Bowen</td>\n",
       "      <td>AU</td>\n",
       "      <td>71.29</td>\n",
       "      <td>overcast clouds</td>\n",
       "      <td>-20.0167</td>\n",
       "      <td>148.2333</td>\n",
       "      <td>Whitsunday Sands Resort</td>\n",
       "    </tr>\n",
       "  </tbody>\n",
       "</table>\n",
       "</div>"
      ],
      "text/plain": [
       "     City_ID          City Country  Max Temp City Weather Description  \\\n",
       "69       319         Bowen      AU     71.29          overcast clouds   \n",
       "74       354       Mareeba      AU     70.52               light rain   \n",
       "121      542     Kununurra      AU     71.58          overcast clouds   \n",
       "146      629  Port Hedland      AU     78.85            broken clouds   \n",
       "69       319         Bowen      AU     71.29          overcast clouds   \n",
       "\n",
       "         Lat       Lng                     Hotel Name  \n",
       "69  -20.0167  148.2333        Whitsunday Sands Resort  \n",
       "74  -17.0000  145.4333              The Gateway Hotel  \n",
       "121 -15.7667  128.7333  Kununurra Country Club Resort  \n",
       "146 -20.3167  118.5667            The Esplanade Hotel  \n",
       "69  -20.0167  148.2333        Whitsunday Sands Resort  "
      ]
     },
     "execution_count": 11,
     "metadata": {},
     "output_type": "execute_result"
    }
   ],
   "source": [
    "# Use the Pandas concat function to create a new DataFrame to store the itinerary details.\n",
    "itinerary_df = pd.concat([vacation_start, vacation_stop1, vacation_stop2, vacation_stop3, vacation_end], axis=0)\n",
    "\n",
    "# Display sample data\n",
    "itinerary_df.head()"
   ]
  },
  {
   "cell_type": "markdown",
   "metadata": {},
   "source": [
    "## Use the Pandas `copy` function to create a new DataFrame named `waypoints_df` to store the longitude and latitude for each city in `itinerary_df`"
   ]
  },
  {
   "cell_type": "code",
   "execution_count": 14,
   "metadata": {},
   "outputs": [
    {
     "data": {
      "text/html": [
       "<div>\n",
       "<style scoped>\n",
       "    .dataframe tbody tr th:only-of-type {\n",
       "        vertical-align: middle;\n",
       "    }\n",
       "\n",
       "    .dataframe tbody tr th {\n",
       "        vertical-align: top;\n",
       "    }\n",
       "\n",
       "    .dataframe thead th {\n",
       "        text-align: right;\n",
       "    }\n",
       "</style>\n",
       "<table border=\"1\" class=\"dataframe\">\n",
       "  <thead>\n",
       "    <tr style=\"text-align: right;\">\n",
       "      <th></th>\n",
       "      <th>Lat</th>\n",
       "      <th>Lng</th>\n",
       "    </tr>\n",
       "  </thead>\n",
       "  <tbody>\n",
       "    <tr>\n",
       "      <th>69</th>\n",
       "      <td>-20.0167</td>\n",
       "      <td>148.2333</td>\n",
       "    </tr>\n",
       "    <tr>\n",
       "      <th>74</th>\n",
       "      <td>-17.0000</td>\n",
       "      <td>145.4333</td>\n",
       "    </tr>\n",
       "    <tr>\n",
       "      <th>121</th>\n",
       "      <td>-15.7667</td>\n",
       "      <td>128.7333</td>\n",
       "    </tr>\n",
       "    <tr>\n",
       "      <th>146</th>\n",
       "      <td>-20.3167</td>\n",
       "      <td>118.5667</td>\n",
       "    </tr>\n",
       "    <tr>\n",
       "      <th>69</th>\n",
       "      <td>-20.0167</td>\n",
       "      <td>148.2333</td>\n",
       "    </tr>\n",
       "  </tbody>\n",
       "</table>\n",
       "</div>"
      ],
      "text/plain": [
       "         Lat       Lng\n",
       "69  -20.0167  148.2333\n",
       "74  -17.0000  145.4333\n",
       "121 -15.7667  128.7333\n",
       "146 -20.3167  118.5667\n",
       "69  -20.0167  148.2333"
      ]
     },
     "execution_count": 14,
     "metadata": {},
     "output_type": "execute_result"
    }
   ],
   "source": [
    "# Create a Pandas DataFrame to store the latitude and longitude for each city in the itineray\n",
    "waypoints_df = itinerary_df[[\"Lat\", \"Lng\"]].copy()\n",
    "\n",
    "# Display sample data\n",
    "waypoints_df.head()"
   ]
  },
  {
   "cell_type": "markdown",
   "metadata": {},
   "source": [
    "## Use GeoViews to create map that shows the four cities in the itinerary"
   ]
  },
  {
   "cell_type": "code",
   "execution_count": 19,
   "metadata": {},
   "outputs": [],
   "source": [
    "# Configure the map plot by using the itineraty_df\n",
    "waypoints_map = waypoints_df.hvplot.points(\n",
    "    \"Lng\",\n",
    "    \"Lat\",\n",
    "    geo = True,\n",
    "    tiles = \"OSM\",\n",
    "    frame_width = 700,\n",
    "    frame_height = 500,\n",
    "    scale = 100,\n",
    ")"
   ]
  },
  {
   "cell_type": "code",
   "execution_count": 20,
   "metadata": {},
   "outputs": [
    {
     "data": {},
     "metadata": {},
     "output_type": "display_data"
    },
    {
     "data": {
      "application/vnd.holoviews_exec.v0+json": "",
      "text/html": [
       "<div id='1524'>\n",
       "  <div class=\"bk-root\" id=\"f174288b-0b44-47fa-95f1-74ad2d041774\" data-root-id=\"1524\"></div>\n",
       "</div>\n",
       "<script type=\"application/javascript\">(function(root) {\n",
       "  function embed_document(root) {\n",
       "    var docs_json = {\"38c10ce6-f7d0-4dce-bc7c-a0a2a073479d\":{\"defs\":[{\"extends\":null,\"module\":null,\"name\":\"ReactiveHTML1\",\"overrides\":[],\"properties\":[]},{\"extends\":null,\"module\":null,\"name\":\"FlexBox1\",\"overrides\":[],\"properties\":[{\"default\":\"flex-start\",\"kind\":null,\"name\":\"align_content\"},{\"default\":\"flex-start\",\"kind\":null,\"name\":\"align_items\"},{\"default\":\"row\",\"kind\":null,\"name\":\"flex_direction\"},{\"default\":\"wrap\",\"kind\":null,\"name\":\"flex_wrap\"},{\"default\":\"flex-start\",\"kind\":null,\"name\":\"justify_content\"}]},{\"extends\":null,\"module\":null,\"name\":\"GridStack1\",\"overrides\":[],\"properties\":[{\"default\":\"warn\",\"kind\":null,\"name\":\"mode\"},{\"default\":null,\"kind\":null,\"name\":\"ncols\"},{\"default\":null,\"kind\":null,\"name\":\"nrows\"},{\"default\":true,\"kind\":null,\"name\":\"allow_resize\"},{\"default\":true,\"kind\":null,\"name\":\"allow_drag\"},{\"default\":[],\"kind\":null,\"name\":\"state\"}]},{\"extends\":null,\"module\":null,\"name\":\"click1\",\"overrides\":[],\"properties\":[{\"default\":\"\",\"kind\":null,\"name\":\"terminal_output\"},{\"default\":\"\",\"kind\":null,\"name\":\"debug_name\"},{\"default\":0,\"kind\":null,\"name\":\"clears\"}]},{\"extends\":null,\"module\":null,\"name\":\"NotificationAreaBase1\",\"overrides\":[],\"properties\":[{\"default\":\"bottom-right\",\"kind\":null,\"name\":\"position\"},{\"default\":0,\"kind\":null,\"name\":\"_clear\"}]},{\"extends\":null,\"module\":null,\"name\":\"NotificationArea1\",\"overrides\":[],\"properties\":[{\"default\":[],\"kind\":null,\"name\":\"notifications\"},{\"default\":\"bottom-right\",\"kind\":null,\"name\":\"position\"},{\"default\":0,\"kind\":null,\"name\":\"_clear\"},{\"default\":[{\"background\":\"#ffc107\",\"icon\":{\"className\":\"fas fa-exclamation-triangle\",\"color\":\"white\",\"tagName\":\"i\"},\"type\":\"warning\"},{\"background\":\"#007bff\",\"icon\":{\"className\":\"fas fa-info-circle\",\"color\":\"white\",\"tagName\":\"i\"},\"type\":\"info\"}],\"kind\":null,\"name\":\"types\"}]},{\"extends\":null,\"module\":null,\"name\":\"Notification\",\"overrides\":[],\"properties\":[{\"default\":null,\"kind\":null,\"name\":\"background\"},{\"default\":3000,\"kind\":null,\"name\":\"duration\"},{\"default\":null,\"kind\":null,\"name\":\"icon\"},{\"default\":\"\",\"kind\":null,\"name\":\"message\"},{\"default\":null,\"kind\":null,\"name\":\"notification_type\"},{\"default\":false,\"kind\":null,\"name\":\"_destroyed\"}]},{\"extends\":null,\"module\":null,\"name\":\"TemplateActions1\",\"overrides\":[],\"properties\":[{\"default\":0,\"kind\":null,\"name\":\"open_modal\"},{\"default\":0,\"kind\":null,\"name\":\"close_modal\"}]},{\"extends\":null,\"module\":null,\"name\":\"MaterialTemplateActions1\",\"overrides\":[],\"properties\":[{\"default\":0,\"kind\":null,\"name\":\"open_modal\"},{\"default\":0,\"kind\":null,\"name\":\"close_modal\"}]}],\"roots\":{\"references\":[{\"attributes\":{\"children\":[{\"id\":\"1525\"},{\"id\":\"1537\"},{\"id\":\"1617\"}],\"margin\":[0,0,0,0],\"name\":\"Row02083\",\"tags\":[\"embedded\"]},\"id\":\"1524\",\"type\":\"Row\"},{\"attributes\":{\"fill_color\":{\"value\":\"#30a2da\"},\"hatch_color\":{\"value\":\"#30a2da\"},\"line_color\":{\"value\":\"#30a2da\"},\"size\":{\"value\":5.477225575051661},\"x\":{\"field\":\"Lng\"},\"y\":{\"field\":\"Lat\"}},\"id\":\"1603\",\"type\":\"Scatter\"},{\"attributes\":{},\"id\":\"1575\",\"type\":\"AllLabels\"},{\"attributes\":{\"dimension\":\"lat\"},\"id\":\"1572\",\"type\":\"MercatorTickFormatter\"},{\"attributes\":{\"callback\":null,\"formatters\":{\"$x\":{\"id\":\"1608\"},\"$y\":{\"id\":\"1609\"}},\"renderers\":[{\"id\":\"1606\"}],\"tags\":[\"hv_created\"],\"tooltips\":[[\"Lng\",\"$x{custom}\"],[\"Lat\",\"$y{custom}\"]]},\"id\":\"1534\",\"type\":\"HoverTool\"},{\"attributes\":{\"coordinates\":null,\"group\":null,\"level\":\"glyph\",\"tile_source\":{\"id\":\"1595\"}},\"id\":\"1598\",\"type\":\"TileRenderer\"},{\"attributes\":{\"axis\":{\"id\":\"1546\"},\"coordinates\":null,\"grid_line_color\":null,\"group\":null,\"ticker\":null},\"id\":\"1549\",\"type\":\"Grid\"},{\"attributes\":{\"below\":[{\"id\":\"1546\"}],\"center\":[{\"id\":\"1549\"},{\"id\":\"1553\"}],\"frame_height\":500,\"frame_width\":700,\"height\":null,\"left\":[{\"id\":\"1550\"}],\"margin\":[5,5,5,5],\"match_aspect\":true,\"min_border_bottom\":10,\"min_border_left\":10,\"min_border_right\":10,\"min_border_top\":10,\"renderers\":[{\"id\":\"1598\"},{\"id\":\"1606\"}],\"sizing_mode\":\"fixed\",\"title\":{\"id\":\"1538\"},\"toolbar\":{\"id\":\"1560\"},\"width\":null,\"x_range\":{\"id\":\"1530\"},\"x_scale\":{\"id\":\"1542\"},\"y_range\":{\"id\":\"1531\"},\"y_scale\":{\"id\":\"1544\"}},\"id\":\"1537\",\"subtype\":\"Figure\",\"type\":\"Plot\"},{\"attributes\":{\"coordinates\":null,\"data_source\":{\"id\":\"1600\"},\"glyph\":{\"id\":\"1603\"},\"group\":null,\"hover_glyph\":null,\"muted_glyph\":{\"id\":\"1605\"},\"nonselection_glyph\":{\"id\":\"1604\"},\"selection_glyph\":{\"id\":\"1610\"},\"view\":{\"id\":\"1607\"}},\"id\":\"1606\",\"type\":\"GlyphRenderer\"},{\"attributes\":{},\"id\":\"1554\",\"type\":\"SaveTool\"},{\"attributes\":{},\"id\":\"1601\",\"type\":\"Selection\"},{\"attributes\":{},\"id\":\"1555\",\"type\":\"PanTool\"},{\"attributes\":{\"margin\":[5,5,5,5],\"name\":\"HSpacer02087\",\"sizing_mode\":\"stretch_width\"},\"id\":\"1525\",\"type\":\"Spacer\"},{\"attributes\":{},\"id\":\"1558\",\"type\":\"ResetTool\"},{\"attributes\":{\"zoom_on_axis\":false},\"id\":\"1556\",\"type\":\"WheelZoomTool\"},{\"attributes\":{},\"id\":\"1614\",\"type\":\"UnionRenderers\"},{\"attributes\":{\"match_aspect\":true,\"overlay\":{\"id\":\"1559\"}},\"id\":\"1557\",\"type\":\"BoxZoomTool\"},{\"attributes\":{\"code\":\"\\n        var projections = Bokeh.require(\\\"core/util/projections\\\");\\n        var x = special_vars.data_x\\n        var y = special_vars.data_y\\n        if (projections.wgs84_mercator.invert == null) {\\n          var coords = projections.wgs84_mercator.inverse([x, y])\\n        } else {\\n          var coords = projections.wgs84_mercator.invert(x, y)\\n        }\\n        return \\\"\\\" + (coords[1]).toFixed(4)\\n    \"},\"id\":\"1609\",\"type\":\"CustomJSHover\"},{\"attributes\":{\"code\":\"\\n        var projections = Bokeh.require(\\\"core/util/projections\\\");\\n        var x = special_vars.data_x\\n        var y = special_vars.data_y\\n        if (projections.wgs84_mercator.invert == null) {\\n          var coords = projections.wgs84_mercator.inverse([x, y])\\n        } else {\\n          var coords = projections.wgs84_mercator.invert(x, y)\\n        }\\n        return \\\"\\\" + (coords[0]).toFixed(4)\\n    \"},\"id\":\"1608\",\"type\":\"CustomJSHover\"},{\"attributes\":{\"source\":{\"id\":\"1600\"}},\"id\":\"1607\",\"type\":\"CDSView\"},{\"attributes\":{\"angle\":{\"value\":0.0},\"fill_alpha\":{\"value\":1.0},\"fill_color\":{\"value\":\"#30a2da\"},\"hatch_alpha\":{\"value\":1.0},\"hatch_color\":{\"value\":\"#30a2da\"},\"hatch_scale\":{\"value\":12.0},\"hatch_weight\":{\"value\":1.0},\"line_alpha\":{\"value\":1.0},\"line_cap\":{\"value\":\"butt\"},\"line_color\":{\"value\":\"#30a2da\"},\"line_dash\":{\"value\":[]},\"line_dash_offset\":{\"value\":0},\"line_join\":{\"value\":\"bevel\"},\"line_width\":{\"value\":1},\"marker\":{\"value\":\"circle\"},\"size\":{\"value\":5.477225575051661},\"x\":{\"field\":\"Lng\"},\"y\":{\"field\":\"Lat\"}},\"id\":\"1610\",\"type\":\"Scatter\"},{\"attributes\":{\"end\":-696206.5097281353,\"min_interval\":5,\"reset_end\":-696206.5097281353,\"reset_start\":-3392100.8631393583,\"start\":-3392100.8631393583,\"tags\":[[[\"Lat\",\"Lat\",null]]]},\"id\":\"1531\",\"type\":\"Range1d\"},{\"attributes\":{\"coordinates\":null,\"group\":null,\"text_color\":\"black\",\"text_font_size\":\"12pt\"},\"id\":\"1538\",\"type\":\"Title\"},{\"attributes\":{\"tools\":[{\"id\":\"1534\"},{\"id\":\"1554\"},{\"id\":\"1555\"},{\"id\":\"1556\"},{\"id\":\"1557\"},{\"id\":\"1558\"}]},\"id\":\"1560\",\"type\":\"Toolbar\"},{\"attributes\":{},\"id\":\"1544\",\"type\":\"LinearScale\"},{\"attributes\":{\"end\":16737146.119210547,\"min_interval\":5,\"reset_end\":16737146.119210547,\"reset_start\":12962894.024434835,\"start\":12962894.024434835,\"tags\":[[[\"Lng\",\"Lng\",null]]]},\"id\":\"1530\",\"type\":\"Range1d\"},{\"attributes\":{\"bottom_units\":\"screen\",\"coordinates\":null,\"fill_alpha\":0.5,\"fill_color\":\"lightgrey\",\"group\":null,\"left_units\":\"screen\",\"level\":\"overlay\",\"line_alpha\":1.0,\"line_color\":\"black\",\"line_dash\":[4,4],\"line_width\":2,\"right_units\":\"screen\",\"syncable\":false,\"top_units\":\"screen\"},\"id\":\"1559\",\"type\":\"BoxAnnotation\"},{\"attributes\":{\"margin\":[5,5,5,5],\"name\":\"HSpacer02088\",\"sizing_mode\":\"stretch_width\"},\"id\":\"1617\",\"type\":\"Spacer\"},{\"attributes\":{\"axis_label\":\"y\",\"coordinates\":null,\"formatter\":{\"id\":\"1572\"},\"group\":null,\"major_label_policy\":{\"id\":\"1582\"},\"ticker\":{\"id\":\"1571\"}},\"id\":\"1550\",\"type\":\"LinearAxis\"},{\"attributes\":{\"attribution\":\"&copy; <a href=\\\"https://www.openstreetmap.org/copyright\\\">OpenStreetMap</a> contributors\",\"url\":\"https://c.tile.openstreetmap.org/{Z}/{X}/{Y}.png\"},\"id\":\"1595\",\"type\":\"WMTSTileSource\"},{\"attributes\":{},\"id\":\"1542\",\"type\":\"LinearScale\"},{\"attributes\":{\"axis_label\":\"x\",\"coordinates\":null,\"formatter\":{\"id\":\"1570\"},\"group\":null,\"major_label_policy\":{\"id\":\"1575\"},\"ticker\":{\"id\":\"1569\"}},\"id\":\"1546\",\"type\":\"LinearAxis\"},{\"attributes\":{\"fill_alpha\":{\"value\":0.1},\"fill_color\":{\"value\":\"#30a2da\"},\"hatch_alpha\":{\"value\":0.1},\"hatch_color\":{\"value\":\"#30a2da\"},\"line_alpha\":{\"value\":0.1},\"line_color\":{\"value\":\"#30a2da\"},\"size\":{\"value\":5.477225575051661},\"x\":{\"field\":\"Lng\"},\"y\":{\"field\":\"Lat\"}},\"id\":\"1604\",\"type\":\"Scatter\"},{\"attributes\":{\"dimension\":\"lat\"},\"id\":\"1571\",\"type\":\"MercatorTicker\"},{\"attributes\":{},\"id\":\"1582\",\"type\":\"AllLabels\"},{\"attributes\":{\"dimension\":\"lon\"},\"id\":\"1569\",\"type\":\"MercatorTicker\"},{\"attributes\":{\"data\":{\"Lat\":{\"__ndarray__\":\"V8knsGBbQcF8LVYKOU89wcBXNgE5IDvBvVSCL92gQcFXySewYFtBwQ==\",\"dtype\":\"float64\",\"order\":\"little\",\"shape\":[5]},\"Lng\":{\"__ndarray__\":\"Gfov70B5b0EH9c8cD+FuQT6y7qxTVWtBH8RoFbgsaUEZ+i/vQHlvQQ==\",\"dtype\":\"float64\",\"order\":\"little\",\"shape\":[5]}},\"selected\":{\"id\":\"1601\"},\"selection_policy\":{\"id\":\"1614\"}},\"id\":\"1600\",\"type\":\"ColumnDataSource\"},{\"attributes\":{\"dimension\":\"lon\"},\"id\":\"1570\",\"type\":\"MercatorTickFormatter\"},{\"attributes\":{\"axis\":{\"id\":\"1550\"},\"coordinates\":null,\"dimension\":1,\"grid_line_color\":null,\"group\":null,\"ticker\":null},\"id\":\"1553\",\"type\":\"Grid\"},{\"attributes\":{\"fill_alpha\":{\"value\":0.2},\"fill_color\":{\"value\":\"#30a2da\"},\"hatch_alpha\":{\"value\":0.2},\"hatch_color\":{\"value\":\"#30a2da\"},\"line_alpha\":{\"value\":0.2},\"line_color\":{\"value\":\"#30a2da\"},\"size\":{\"value\":5.477225575051661},\"x\":{\"field\":\"Lng\"},\"y\":{\"field\":\"Lat\"}},\"id\":\"1605\",\"type\":\"Scatter\"}],\"root_ids\":[\"1524\"]},\"title\":\"Bokeh Application\",\"version\":\"2.4.3\"}};\n",
       "    var render_items = [{\"docid\":\"38c10ce6-f7d0-4dce-bc7c-a0a2a073479d\",\"root_ids\":[\"1524\"],\"roots\":{\"1524\":\"f174288b-0b44-47fa-95f1-74ad2d041774\"}}];\n",
       "    root.Bokeh.embed.embed_items_notebook(docs_json, render_items);\n",
       "  }\n",
       "  if (root.Bokeh !== undefined && root.Bokeh.Panel !== undefined) {\n",
       "    embed_document(root);\n",
       "  } else {\n",
       "    var attempts = 0;\n",
       "    var timer = setInterval(function(root) {\n",
       "      if (root.Bokeh !== undefined && root.Bokeh.Panel !== undefined) {\n",
       "        clearInterval(timer);\n",
       "        embed_document(root);\n",
       "      } else if (document.readyState == \"complete\") {\n",
       "        attempts++;\n",
       "        if (attempts > 200) {\n",
       "          clearInterval(timer);\n",
       "          console.log(\"Bokeh: ERROR: Unable to run BokehJS code because BokehJS library is missing\");\n",
       "        }\n",
       "      }\n",
       "    }, 25, root)\n",
       "  }\n",
       "})(window);</script>"
      ],
      "text/plain": [
       ":Overlay\n",
       "   .Tiles.I  :Tiles   [x,y]\n",
       "   .Points.I :Points   [Lng,Lat]"
      ]
     },
     "execution_count": 20,
     "metadata": {
      "application/vnd.holoviews_exec.v0+json": {
       "id": "1524"
      }
     },
     "output_type": "execute_result"
    }
   ],
   "source": [
    "# Display the route_map\n",
    "waypoints_map"
   ]
  },
  {
   "cell_type": "markdown",
   "metadata": {},
   "source": [
    "## Next, you'll use the Geoapify Routing API to find a route between the cities in the itinerary. Review the code that sets the initial parameters and fetches the coordinates from each city to define the `waypoints` parameter by using a `for` loop"
   ]
  },
  {
   "cell_type": "code",
   "execution_count": 21,
   "metadata": {},
   "outputs": [],
   "source": [
    "# Set parameters to trace the route\n",
    "radius = 5000\n",
    "params = {\n",
    "    \"mode\":\"drive\",\n",
    "    \"apiKey\": geoapify_key,\n",
    "}"
   ]
  },
  {
   "cell_type": "code",
   "execution_count": 22,
   "metadata": {},
   "outputs": [
    {
     "data": {
      "text/plain": [
       "{'mode': 'drive',\n",
       " 'apiKey': 'b64c80d1d3f8480ca4cb5d03be8101ce',\n",
       " 'waypoints': '-20.0167,148.2333|-17.0,145.4333|-15.7667,128.7333|-20.3167,118.5667|-20.0167,148.2333'}"
      ]
     },
     "execution_count": 22,
     "metadata": {},
     "output_type": "execute_result"
    }
   ],
   "source": [
    "# Set an empty waypoints String variable\n",
    "waypoints = \"\"\n",
    "\n",
    "# Iterate through the route_df DataFrame to define the waypoints\n",
    "for index, row in waypoints_df.iterrows():\n",
    "    waypoints = waypoints + str(row[\"Lat\"]) + \",\" + str(row[\"Lng\"]) + \"|\"\n",
    "\n",
    "# Delete the last character from the string\n",
    "waypoints = waypoints[:-1]\n",
    "\n",
    "# Add the waypoints to the params dictionary\n",
    "params[\"waypoints\"] = waypoints\n",
    "\n",
    "# Display the params dictionary\n",
    "params"
   ]
  },
  {
   "cell_type": "markdown",
   "metadata": {},
   "source": [
    "## Use the Geoapify Routing API to retrieve the route's directions for your itinerary"
   ]
  },
  {
   "cell_type": "code",
   "execution_count": 26,
   "metadata": {},
   "outputs": [],
   "source": [
    "# Set up the base URL for the Geoapify Places API.\n",
    "base_url = \"https://api.geoapify.com/v1/routing\"\n",
    "\n",
    "# Make request and retrieve the JSON data by using the params dictionaty\n",
    "route_response = requests.get(base_url, params=params)\n",
    "\n",
    "# Convert the API response to JSON format\n",
    "route_response = route_response.json()"
   ]
  },
  {
   "cell_type": "markdown",
   "metadata": {},
   "source": [
    "## From the JSON response, store the route's legs coordinates in a variable called `legs`"
   ]
  },
  {
   "cell_type": "code",
   "execution_count": 39,
   "metadata": {
    "scrolled": true,
    "tags": []
   },
   "outputs": [
    {
     "ename": "SyntaxError",
     "evalue": "invalid syntax (152500207.py, line 2)",
     "output_type": "error",
     "traceback": [
      "\u001b[1;36m  File \u001b[1;32m\"C:\\Users\\tanah\\AppData\\Local\\Temp\\ipykernel_7024\\152500207.py\"\u001b[1;36m, line \u001b[1;32m2\u001b[0m\n\u001b[1;33m    legs = route_response.['features'][0]['properties']['legs']\u001b[0m\n\u001b[1;37m                          ^\u001b[0m\n\u001b[1;31mSyntaxError\u001b[0m\u001b[1;31m:\u001b[0m invalid syntax\n"
     ]
    }
   ],
   "source": [
    "# Fetch the route's legs coordinates from the JSON reponse\n",
    "legs = route_response.['features'][0]['properties']['legs']"
   ]
  },
  {
   "cell_type": "markdown",
   "metadata": {},
   "source": [
    "## Loop through the route legs coordinates to fetch the latitude and longitude for each step. Store the latitude and longitude value into two Python lists names `longitude` and `latitude`"
   ]
  },
  {
   "cell_type": "code",
   "execution_count": null,
   "metadata": {},
   "outputs": [],
   "source": [
    "# Create and empty list to store the longitude of each step\n",
    "# YOUR CODE HERE\n",
    "\n",
    "# Create and empty list to store the latitude of step\n",
    "# YOUR CODE HERE\n",
    "\n",
    "# Loop through the legs coordinates to fetch the latitude and longitude for each step\n",
    "# YOUR CODE HERE"
   ]
  },
  {
   "cell_type": "markdown",
   "metadata": {},
   "source": [
    "## Use the `longitude` and `latitude` Python lists to create a new DataFrame named `route_df`"
   ]
  },
  {
   "cell_type": "code",
   "execution_count": null,
   "metadata": {},
   "outputs": [],
   "source": [
    "# Create an empty DataFrame to store the steps' coordinates\n",
    "route_df = # YOUR CODE HERE\n",
    "\n",
    "# Add the steps' longitude and latitude from each step as columns to the DataFrame\n",
    "# YOUR CODE HERE\n",
    "\n",
    "# Display sample data\n",
    "# YOUR CODE HERE"
   ]
  },
  {
   "cell_type": "markdown",
   "metadata": {},
   "source": [
    "##  Use the GeoViews `Path` function to configure a line plot by using `route_df`. Set a custom color and width for the line that may contrast with the map"
   ]
  },
  {
   "cell_type": "code",
   "execution_count": null,
   "metadata": {},
   "outputs": [],
   "source": [
    "# Configure the route path by using the GeoViews' Path function\n",
    "route_path = # YOUR CODE HERE"
   ]
  },
  {
   "cell_type": "code",
   "execution_count": null,
   "metadata": {},
   "outputs": [],
   "source": [
    "# Display a composed plot by using the route_map and route_path objects\n",
    "# YOUR CODE HERE"
   ]
  },
  {
   "cell_type": "code",
   "execution_count": null,
   "metadata": {},
   "outputs": [],
   "source": []
  }
 ],
 "metadata": {
  "kernelspec": {
   "display_name": "PythonData",
   "language": "python",
   "name": "pythondata"
  },
  "language_info": {
   "codemirror_mode": {
    "name": "ipython",
    "version": 3
   },
   "file_extension": ".py",
   "mimetype": "text/x-python",
   "name": "python",
   "nbconvert_exporter": "python",
   "pygments_lexer": "ipython3",
   "version": "3.7.13"
  },
  "latex_envs": {
   "LaTeX_envs_menu_present": true,
   "autoclose": false,
   "autocomplete": true,
   "bibliofile": "biblio.bib",
   "cite_by": "apalike",
   "current_citInitial": 1,
   "eqLabelWithNumbers": true,
   "eqNumInitial": 1,
   "hotkeys": {
    "equation": "Ctrl-E",
    "itemize": "Ctrl-I"
   },
   "labels_anchors": false,
   "latex_user_defs": false,
   "report_style_numbering": false,
   "user_envs_cfg": false
  }
 },
 "nbformat": 4,
 "nbformat_minor": 4
}
